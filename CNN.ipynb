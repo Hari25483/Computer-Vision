{
  "nbformat": 4,
  "nbformat_minor": 0,
  "metadata": {
    "colab": {
      "provenance": [],
      "include_colab_link": true
    },
    "kernelspec": {
      "name": "python3",
      "display_name": "Python 3"
    },
    "language_info": {
      "name": "python"
    },
    "accelerator": "GPU",
    "gpuClass": "standard"
  },
  "cells": [
    {
      "cell_type": "markdown",
      "metadata": {
        "id": "view-in-github",
        "colab_type": "text"
      },
      "source": [
        "<a href=\"https://colab.research.google.com/github/Hari25483/Computer-Vision/blob/main/CNN.ipynb\" target=\"_parent\"><img src=\"https://colab.research.google.com/assets/colab-badge.svg\" alt=\"Open In Colab\"/></a>"
      ]
    },
    {
      "cell_type": "code",
      "source": [
        "from google.colab import drive\n",
        "drive.mount('/content/drive')"
      ],
      "metadata": {
        "colab": {
          "base_uri": "https://localhost:8080/"
        },
        "id": "cJRE3J-9SC0t",
        "outputId": "38915d40-8358-451e-b4dc-2b2e4d285a06"
      },
      "execution_count": 1,
      "outputs": [
        {
          "output_type": "stream",
          "name": "stdout",
          "text": [
            "Mounted at /content/drive\n"
          ]
        }
      ]
    },
    {
      "cell_type": "code",
      "execution_count": 2,
      "metadata": {
        "id": "Df1qDv6-Pege"
      },
      "outputs": [],
      "source": [
        "from keras.preprocessing.image import ImageDataGenerator\n",
        "from keras.models import Sequential\n",
        "from keras.layers import Dense, Dropout, Activation, Flatten\n",
        "from keras.layers import Conv2D, MaxPooling2D\n",
        "import numpy as np\n",
        "import tensorflow as tf\n"
      ]
    },
    {
      "cell_type": "code",
      "source": [
        "# Set up image data generator\n",
        "train_datagen = ImageDataGenerator(rescale = 1./255,\n",
        "                                   shear_range = 0.2,\n",
        "                                   zoom_range = 0.2,\n",
        "                                   horizontal_flip = True)\n",
        "\n",
        "test_datagen = ImageDataGenerator(rescale = 1./255)\n",
        "\n",
        "# Set up the training and test data generators\n",
        "training_set = train_datagen.flow_from_directory('/content/drive/MyDrive/Dataset/Train',\n",
        "                                                 target_size = (64, 64),\n",
        "                                                 batch_size = 32,\n",
        "                                                 class_mode = 'categorical',\n",
        "                                                 shuffle=True,\n",
        "                                                 seed=42)\n",
        "\n",
        "test_set = test_datagen.flow_from_directory('/content/drive/MyDrive/Dataset/Test',\n",
        "                                            target_size = (64, 64),\n",
        "                                            batch_size = 32,\n",
        "                                            class_mode = 'categorical',\n",
        "                                            shuffle=True,\n",
        "                                            seed=42)\n"
      ],
      "metadata": {
        "colab": {
          "base_uri": "https://localhost:8080/"
        },
        "id": "vDrobdk9Q1NY",
        "outputId": "ef636061-96cf-4c90-f327-5fb34a6401f8"
      },
      "execution_count": 3,
      "outputs": [
        {
          "output_type": "stream",
          "name": "stdout",
          "text": [
            "Found 979 images belonging to 3 classes.\n",
            "Found 170 images belonging to 3 classes.\n"
          ]
        }
      ]
    },
    {
      "cell_type": "code",
      "source": [
        "\n",
        "# Set up the model\n",
        "model = Sequential()\n",
        "\n",
        "model.add(Conv2D(32, (3, 3), input_shape = (64, 64, 3), activation = 'relu'))\n",
        "model.add(MaxPooling2D(pool_size = (2, 2)))\n",
        "\n",
        "model.add(Conv2D(32, (3, 3), activation = 'relu'))\n",
        "model.add(MaxPooling2D(pool_size = (2, 2)))\n",
        "\n",
        "model.add(Flatten())\n",
        "model.add(Dense(units = 128, activation = 'relu'))\n",
        "model.add(Dense(units = 3, activation = 'softmax'))"
      ],
      "metadata": {
        "id": "7f3T1uy1Q4t3"
      },
      "execution_count": 4,
      "outputs": []
    },
    {
      "cell_type": "code",
      "source": [
        "# Compile the model\n",
        "model.compile(optimizer = 'adam', loss = 'categorical_crossentropy', metrics = ['accuracy'])\n",
        "\n",
        "# Fit the model to the training data\n",
        "history = model.fit_generator(training_set,\n",
        "                    steps_per_epoch = training_set.samples // training_set.batch_size,\n",
        "                    epochs = 10,\n",
        "                    validation_data = test_set,\n",
        "                    validation_steps = test_set.samples // test_set.batch_size,\n",
        "                    verbose=1)"
      ],
      "metadata": {
        "colab": {
          "base_uri": "https://localhost:8080/"
        },
        "id": "FdNnaFfGRBKx",
        "outputId": "d94a13b9-de4d-41da-af43-42fb4372b0ba"
      },
      "execution_count": 5,
      "outputs": [
        {
          "metadata": {
            "tags": null
          },
          "name": "stderr",
          "output_type": "stream",
          "text": [
            "<ipython-input-5-8cdb512b8046>:5: UserWarning: `Model.fit_generator` is deprecated and will be removed in a future version. Please use `Model.fit`, which supports generators.\n",
            "  history = model.fit_generator(training_set,\n"
          ]
        },
        {
          "output_type": "stream",
          "name": "stdout",
          "text": [
            "Epoch 1/10\n",
            "30/30 [==============================] - 515s 17s/step - loss: 1.0852 - accuracy: 0.4456 - val_loss: 1.0453 - val_accuracy: 0.5312\n",
            "Epoch 2/10\n",
            "30/30 [==============================] - 5s 182ms/step - loss: 0.9910 - accuracy: 0.5280 - val_loss: 0.9957 - val_accuracy: 0.4500\n",
            "Epoch 3/10\n",
            "30/30 [==============================] - 5s 155ms/step - loss: 0.9062 - accuracy: 0.5808 - val_loss: 0.9632 - val_accuracy: 0.6250\n",
            "Epoch 4/10\n",
            "30/30 [==============================] - 5s 168ms/step - loss: 0.8711 - accuracy: 0.6030 - val_loss: 0.8688 - val_accuracy: 0.5813\n",
            "Epoch 5/10\n",
            "30/30 [==============================] - 5s 160ms/step - loss: 0.7959 - accuracy: 0.6354 - val_loss: 0.8831 - val_accuracy: 0.6187\n",
            "Epoch 6/10\n",
            "30/30 [==============================] - 5s 180ms/step - loss: 0.7189 - accuracy: 0.6864 - val_loss: 0.8710 - val_accuracy: 0.6250\n",
            "Epoch 7/10\n",
            "30/30 [==============================] - 5s 182ms/step - loss: 0.6839 - accuracy: 0.7125 - val_loss: 0.8400 - val_accuracy: 0.6562\n",
            "Epoch 8/10\n",
            "30/30 [==============================] - 5s 151ms/step - loss: 0.6972 - accuracy: 0.7096 - val_loss: 0.8768 - val_accuracy: 0.6062\n",
            "Epoch 9/10\n",
            "30/30 [==============================] - 5s 180ms/step - loss: 0.6176 - accuracy: 0.7455 - val_loss: 0.8046 - val_accuracy: 0.6562\n",
            "Epoch 10/10\n",
            "30/30 [==============================] - 5s 159ms/step - loss: 0.6191 - accuracy: 0.7402 - val_loss: 0.7845 - val_accuracy: 0.6687\n"
          ]
        }
      ]
    },
    {
      "cell_type": "markdown",
      "source": [
        "# Confusion Matrix"
      ],
      "metadata": {
        "id": "tEa3sOa_nJuS"
      }
    },
    {
      "cell_type": "code",
      "source": [
        "from sklearn.metrics import confusion_matrix\n",
        "import numpy as np\n",
        "\n",
        "# Generate predictions on test set\n",
        "Y_pred = model.predict(test_set)\n",
        "y_pred = np.argmax(Y_pred, axis=1)\n",
        "\n",
        "# Create confusion matrix\n",
        "cm = confusion_matrix(test_set.classes, y_pred)"
      ],
      "metadata": {
        "id": "_heorrULfmxI",
        "colab": {
          "base_uri": "https://localhost:8080/"
        },
        "outputId": "99b61915-ef2b-4d79-dcc0-18b61e8b6a36"
      },
      "execution_count": 6,
      "outputs": [
        {
          "output_type": "stream",
          "name": "stdout",
          "text": [
            "6/6 [==============================] - 1s 131ms/step\n"
          ]
        }
      ]
    },
    {
      "cell_type": "code",
      "source": [
        "import seaborn as sns\n",
        "import matplotlib.pyplot as plt\n",
        "\n",
        "# Create heatmap visualization\n",
        "sns.heatmap(cm, annot=True, cmap='Blues', fmt='g', xticklabels=['class0', 'class1', 'class2'], yticklabels=['class0', 'class1', 'class2'])\n",
        "plt.xlabel('Predicted')\n",
        "plt.ylabel('True')\n",
        "plt.show()"
      ],
      "metadata": {
        "colab": {
          "base_uri": "https://localhost:8080/",
          "height": 449
        },
        "id": "JKTyRDJ6kaps",
        "outputId": "ac33d779-ba9b-4d8e-8faf-03f4c33dfdba"
      },
      "execution_count": 9,
      "outputs": [
        {
          "output_type": "display_data",
          "data": {
            "text/plain": [
              "<Figure size 640x480 with 2 Axes>"
            ],
            "image/png": "[encoded data removed]"
          },
          "metadata": {}
        }
      ]
    },
    {
      "cell_type": "code",
      "source": [
        "import matplotlib.pyplot as plt\n",
        "\n",
        "# Plot the training accuracy\n",
        "plt.plot(history.history['accuracy'])\n",
        "# Plot the validation accuracy\n",
        "plt.plot(history.history['val_accuracy'])\n",
        "plt.title('Model accuracy')\n",
        "plt.ylabel('Accuracy')\n",
        "plt.xlabel('Epoch')\n",
        "plt.legend(['Train', 'Validation'], loc='upper left')\n",
        "plt.show()\n",
        "\n",
        "# Plot the training loss\n",
        "plt.plot(history.history['loss'])\n",
        "# Plot the validation loss\n",
        "plt.plot(history.history['val_loss'])\n",
        "plt.title('Model loss')\n",
        "plt.ylabel('Loss')\n",
        "plt.xlabel('Epoch')\n",
        "plt.legend(['Train', 'Validation'], loc='upper left')\n",
        "plt.show()"
      ],
      "metadata": {
        "colab": {
          "base_uri": "https://localhost:8080/",
          "height": 573
        },
        "id": "OjwaSWcvaPNv",
        "outputId": "ce426425-b59a-4835-9a51-4e7ac2b96497"
      },
      "execution_count": null,
      "outputs": [
        {
          "output_type": "display_data",
          "data": {
            "text/plain": [
              "<Figure size 432x288 with 1 Axes>"
            ],
            "image/png": "[encoded data removed]"
          },
          "metadata": {
            "needs_background": "light"
          }
        },
        {
          "output_type": "display_data",
          "data": {
            "text/plain": [
              "<Figure size 432x288 with 1 Axes>"
            ],
            "image/png": "[encoded data removed]"
          },
          "metadata": {
            "needs_background": "light"
          }
        }
      ]
    },
    {
      "cell_type": "code",
      "source": [
        "#Save the model\n",
        "model.save('CNN_Nail_model.h5')\n"
      ],
      "metadata": {
        "id": "qE4Im3DJarYX",
        "colab": {
          "base_uri": "https://localhost:8080/"
        },
        "outputId": "ff7325cf-e826-4007-acdd-858feb3e9d01"
      },
      "execution_count": null,
      "outputs": [
        {
          "output_type": "stream",
          "name": "stderr",
          "text": [
            "WARNING:tensorflow:Compiled the loaded model, but the compiled metrics have yet to be built. `model.compile_metrics` will be empty until you train or evaluate the model.\n"
          ]
        }
      ]
    },
    {
      "cell_type": "code",
      "source": [
        "# Load the model\n",
        "loaded_model = tf.keras.models.load_model('/content/CNN_Nail_model.h5')\n"
      ],
      "metadata": {
        "id": "LKMf0tIWa2Xv"
      },
      "execution_count": null,
      "outputs": []
    },
    {
      "cell_type": "code",
      "source": [
        "# Predict image\n",
        "from keras.preprocessing import image\n",
        "test_image = tf.keras.utils.load_img('/content/drive/MyDrive/Testing/w.jpg', target_size = (64, 64))\n",
        "test_image = tf.keras.utils.img_to_array(test_image)\n",
        "test_image = np.expand_dims(test_image, axis = 0)\n",
        "result = loaded_model.predict(test_image)\n",
        "\n",
        "# Get class labels from the generator\n",
        "class_labels = list(training_set.class_indices.keys())\n",
        "print(class_labels)\n",
        "# Get the index of the class with the highest probability\n",
        "predicted_class_index = np.argmax(result[0])\n",
        "\n",
        "# Get the label of the predicted class\n",
        "predicted_class_label = class_labels[predicted_class_index]\n",
        "\n",
        "# Get the index of the class with the\n",
        "print(predicted_class_label)\n",
        "\n"
      ],
      "metadata": {
        "colab": {
          "base_uri": "https://localhost:8080/"
        },
        "id": "KwHmDYJeRCRW",
        "outputId": "a8a80fc3-d0d0-483c-b11e-41168fd771e9"
      },
      "execution_count": null,
      "outputs": [
        {
          "output_type": "stream",
          "name": "stdout",
          "text": [
            "1/1 [==============================] - 0s 36ms/step\n",
            "['black nail', 'white spot', 'yellow nail']\n",
            "white spot\n"
          ]
        }
      ]
    },
    {
      "cell_type": "markdown",
      "source": [
        "### Model2"
      ],
      "metadata": {
        "id": "Dl-jhES4bbi8"
      }
    },
    {
      "cell_type": "code",
      "source": [
        "# Model 2: CNN with Dropout\n",
        "model2 = Sequential()\n",
        "model2.add(Conv2D(32, (3, 3), input_shape = (64, 64, 3), activation = 'relu'))\n",
        "model2.add(MaxPooling2D(pool_size = (2, 2)))\n",
        "model2.add(Dropout(0.2))\n",
        "model2.add(Flatten())\n",
        "model2.add(Dense(units = 3, activation = 'softmax'))\n",
        "model2.compile(optimizer = 'adam', loss = 'categorical_crossentropy', metrics = ['accuracy'])"
      ],
      "metadata": {
        "id": "-kPZN00obc0t"
      },
      "execution_count": null,
      "outputs": []
    },
    {
      "cell_type": "code",
      "source": [
        "# Compile the model\n",
        "model2.compile(optimizer = 'adam', loss = 'categorical_crossentropy', metrics = ['accuracy'])\n",
        "\n",
        "# Fit the model to the training data\n",
        "history = model2.fit_generator(training_set,\n",
        "                    steps_per_epoch = training_set.samples // training_set.batch_size,\n",
        "                    epochs = 100,\n",
        "                    validation_data = test_set,\n",
        "                    validation_steps = test_set.samples // test_set.batch_size,\n",
        "                    verbose=1)"
      ],
      "metadata": {
        "colab": {
          "base_uri": "https://localhost:8080/"
        },
        "outputId": "b1ba9bb3-d030-42a1-be1c-c28a87deca31",
        "id": "afdAaEKhbhS3"
      },
      "execution_count": null,
      "outputs": [
        {
          "output_type": "stream",
          "name": "stdout",
          "text": [
            "Epoch 1/100\n"
          ]
        },
        {
          "output_type": "stream",
          "name": "stderr",
          "text": [
            "<ipython-input-18-1d4aea5b0c49>:5: UserWarning: `Model.fit_generator` is deprecated and will be removed in a future version. Please use `Model.fit`, which supports generators.\n",
            "  history = model2.fit_generator(training_set,\n"
          ]
        },
        {
          "output_type": "stream",
          "name": "stdout",
          "text": [
            "30/30 [==============================] - 5s 134ms/step - loss: 1.1591 - accuracy: 0.4657 - val_loss: 0.9962 - val_accuracy: 0.5875\n",
            "Epoch 2/100\n",
            "30/30 [==============================] - 5s 151ms/step - loss: 0.8841 - accuracy: 0.5829 - val_loss: 0.9124 - val_accuracy: 0.5562\n",
            "Epoch 3/100\n",
            "30/30 [==============================] - 4s 134ms/step - loss: 0.7887 - accuracy: 0.6410 - val_loss: 0.8925 - val_accuracy: 0.6250\n",
            "Epoch 4/100\n",
            "30/30 [==============================] - 4s 137ms/step - loss: 0.7243 - accuracy: 0.7043 - val_loss: 0.7998 - val_accuracy: 0.6812\n",
            "Epoch 5/100\n",
            "30/30 [==============================] - 5s 151ms/step - loss: 0.7299 - accuracy: 0.6864 - val_loss: 0.8121 - val_accuracy: 0.6438\n",
            "Epoch 6/100\n",
            "30/30 [==============================] - 4s 142ms/step - loss: 0.6767 - accuracy: 0.7286 - val_loss: 0.7833 - val_accuracy: 0.7063\n",
            "Epoch 7/100\n",
            "30/30 [==============================] - 4s 134ms/step - loss: 0.6515 - accuracy: 0.7423 - val_loss: 0.6978 - val_accuracy: 0.7312\n",
            "Epoch 8/100\n",
            "30/30 [==============================] - 4s 149ms/step - loss: 0.6463 - accuracy: 0.7518 - val_loss: 0.7159 - val_accuracy: 0.7375\n",
            "Epoch 9/100\n",
            "30/30 [==============================] - 4s 145ms/step - loss: 0.5999 - accuracy: 0.7740 - val_loss: 0.7131 - val_accuracy: 0.7000\n",
            "Epoch 10/100\n",
            "30/30 [==============================] - 4s 140ms/step - loss: 0.5948 - accuracy: 0.7571 - val_loss: 0.6943 - val_accuracy: 0.7250\n",
            "Epoch 11/100\n",
            "30/30 [==============================] - 5s 175ms/step - loss: 0.5760 - accuracy: 0.7878 - val_loss: 0.6964 - val_accuracy: 0.7312\n",
            "Epoch 12/100\n",
            "30/30 [==============================] - 4s 137ms/step - loss: 0.5401 - accuracy: 0.7941 - val_loss: 0.7112 - val_accuracy: 0.7250\n",
            "Epoch 13/100\n",
            "30/30 [==============================] - 5s 158ms/step - loss: 0.5206 - accuracy: 0.8173 - val_loss: 0.6696 - val_accuracy: 0.7688\n",
            "Epoch 14/100\n",
            "30/30 [==============================] - 4s 134ms/step - loss: 0.5189 - accuracy: 0.8115 - val_loss: 0.6882 - val_accuracy: 0.7750\n",
            "Epoch 15/100\n",
            "30/30 [==============================] - 4s 135ms/step - loss: 0.5111 - accuracy: 0.8141 - val_loss: 0.9862 - val_accuracy: 0.6875\n",
            "Epoch 16/100\n",
            "30/30 [==============================] - 4s 147ms/step - loss: 0.5444 - accuracy: 0.7962 - val_loss: 0.7185 - val_accuracy: 0.7250\n",
            "Epoch 17/100\n",
            "30/30 [==============================] - 4s 144ms/step - loss: 0.5072 - accuracy: 0.8167 - val_loss: 0.5885 - val_accuracy: 0.7875\n",
            "Epoch 18/100\n",
            "30/30 [==============================] - 4s 129ms/step - loss: 0.4936 - accuracy: 0.8226 - val_loss: 0.6485 - val_accuracy: 0.7125\n",
            "Epoch 19/100\n",
            "30/30 [==============================] - 4s 149ms/step - loss: 0.4681 - accuracy: 0.8289 - val_loss: 0.6861 - val_accuracy: 0.7750\n",
            "Epoch 20/100\n",
            "30/30 [==============================] - 4s 134ms/step - loss: 0.4834 - accuracy: 0.8163 - val_loss: 0.7051 - val_accuracy: 0.7750\n",
            "Epoch 21/100\n",
            "30/30 [==============================] - 4s 136ms/step - loss: 0.4925 - accuracy: 0.8279 - val_loss: 0.7075 - val_accuracy: 0.7875\n",
            "Epoch 22/100\n",
            "30/30 [==============================] - 6s 201ms/step - loss: 0.4711 - accuracy: 0.8279 - val_loss: 0.5747 - val_accuracy: 0.7875\n",
            "Epoch 23/100\n",
            "30/30 [==============================] - 4s 136ms/step - loss: 0.4641 - accuracy: 0.8247 - val_loss: 0.7607 - val_accuracy: 0.7437\n",
            "Epoch 24/100\n",
            "30/30 [==============================] - 5s 160ms/step - loss: 0.4442 - accuracy: 0.8342 - val_loss: 0.7124 - val_accuracy: 0.7875\n",
            "Epoch 25/100\n",
            "30/30 [==============================] - 4s 145ms/step - loss: 0.4329 - accuracy: 0.8427 - val_loss: 0.6186 - val_accuracy: 0.7750\n",
            "Epoch 26/100\n",
            "30/30 [==============================] - 4s 133ms/step - loss: 0.4344 - accuracy: 0.8458 - val_loss: 0.6776 - val_accuracy: 0.7875\n",
            "Epoch 27/100\n",
            "30/30 [==============================] - 5s 167ms/step - loss: 0.4076 - accuracy: 0.8574 - val_loss: 0.6847 - val_accuracy: 0.8000\n",
            "Epoch 28/100\n",
            "30/30 [==============================] - 4s 134ms/step - loss: 0.4175 - accuracy: 0.8617 - val_loss: 0.8251 - val_accuracy: 0.7500\n",
            "Epoch 29/100\n",
            "30/30 [==============================] - 4s 131ms/step - loss: 0.4088 - accuracy: 0.8469 - val_loss: 0.8125 - val_accuracy: 0.7563\n",
            "Epoch 30/100\n",
            "30/30 [==============================] - 5s 160ms/step - loss: 0.4221 - accuracy: 0.8226 - val_loss: 0.7240 - val_accuracy: 0.8000\n",
            "Epoch 31/100\n",
            "30/30 [==============================] - 4s 132ms/step - loss: 0.4128 - accuracy: 0.8606 - val_loss: 0.6525 - val_accuracy: 0.8000\n",
            "Epoch 32/100\n",
            "30/30 [==============================] - 4s 130ms/step - loss: 0.3987 - accuracy: 0.8585 - val_loss: 0.6624 - val_accuracy: 0.8000\n",
            "Epoch 33/100\n",
            "30/30 [==============================] - 5s 159ms/step - loss: 0.3992 - accuracy: 0.8596 - val_loss: 0.6314 - val_accuracy: 0.8000\n",
            "Epoch 34/100\n",
            "30/30 [==============================] - 4s 136ms/step - loss: 0.3969 - accuracy: 0.8479 - val_loss: 0.6885 - val_accuracy: 0.7688\n",
            "Epoch 35/100\n",
            "30/30 [==============================] - 4s 141ms/step - loss: 0.3933 - accuracy: 0.8638 - val_loss: 0.6785 - val_accuracy: 0.7875\n",
            "Epoch 36/100\n",
            "30/30 [==============================] - 4s 140ms/step - loss: 0.3885 - accuracy: 0.8722 - val_loss: 0.6529 - val_accuracy: 0.7937\n",
            "Epoch 37/100\n",
            "30/30 [==============================] - 4s 131ms/step - loss: 0.3842 - accuracy: 0.8648 - val_loss: 0.7254 - val_accuracy: 0.7750\n",
            "Epoch 38/100\n",
            "30/30 [==============================] - 4s 142ms/step - loss: 0.3611 - accuracy: 0.8743 - val_loss: 0.7417 - val_accuracy: 0.7625\n",
            "Epoch 39/100\n",
            "30/30 [==============================] - 4s 139ms/step - loss: 0.3609 - accuracy: 0.8648 - val_loss: 0.5784 - val_accuracy: 0.8188\n",
            "Epoch 40/100\n",
            "30/30 [==============================] - 4s 131ms/step - loss: 0.3629 - accuracy: 0.8765 - val_loss: 0.6493 - val_accuracy: 0.7812\n",
            "Epoch 41/100\n",
            "30/30 [==============================] - 5s 161ms/step - loss: 0.3263 - accuracy: 0.8955 - val_loss: 0.7935 - val_accuracy: 0.7688\n",
            "Epoch 42/100\n",
            "30/30 [==============================] - 4s 130ms/step - loss: 0.3820 - accuracy: 0.8511 - val_loss: 0.7669 - val_accuracy: 0.7688\n",
            "Epoch 43/100\n",
            "30/30 [==============================] - 4s 136ms/step - loss: 0.3767 - accuracy: 0.8786 - val_loss: 0.7451 - val_accuracy: 0.7875\n",
            "Epoch 44/100\n",
            "30/30 [==============================] - 5s 155ms/step - loss: 0.3404 - accuracy: 0.8870 - val_loss: 0.6931 - val_accuracy: 0.8000\n",
            "Epoch 45/100\n",
            "30/30 [==============================] - 4s 138ms/step - loss: 0.3423 - accuracy: 0.8680 - val_loss: 0.6788 - val_accuracy: 0.8062\n",
            "Epoch 46/100\n",
            "30/30 [==============================] - 5s 161ms/step - loss: 0.3496 - accuracy: 0.8743 - val_loss: 0.5856 - val_accuracy: 0.8313\n",
            "Epoch 47/100\n",
            "30/30 [==============================] - 4s 146ms/step - loss: 0.3112 - accuracy: 0.8944 - val_loss: 0.8555 - val_accuracy: 0.7750\n",
            "Epoch 48/100\n",
            "30/30 [==============================] - 4s 137ms/step - loss: 0.3235 - accuracy: 0.8902 - val_loss: 0.7170 - val_accuracy: 0.7875\n",
            "Epoch 49/100\n",
            "30/30 [==============================] - 4s 149ms/step - loss: 0.3273 - accuracy: 0.8807 - val_loss: 0.7514 - val_accuracy: 0.8062\n",
            "Epoch 50/100\n",
            "30/30 [==============================] - 4s 138ms/step - loss: 0.3031 - accuracy: 0.9050 - val_loss: 0.7691 - val_accuracy: 0.8000\n",
            "Epoch 51/100\n",
            "30/30 [==============================] - 4s 130ms/step - loss: 0.3115 - accuracy: 0.8902 - val_loss: 0.8781 - val_accuracy: 0.7500\n",
            "Epoch 52/100\n",
            "30/30 [==============================] - 4s 141ms/step - loss: 0.2795 - accuracy: 0.8986 - val_loss: 0.5661 - val_accuracy: 0.8250\n",
            "Epoch 53/100\n",
            "30/30 [==============================] - 4s 139ms/step - loss: 0.3399 - accuracy: 0.8828 - val_loss: 0.6446 - val_accuracy: 0.8125\n",
            "Epoch 54/100\n",
            "30/30 [==============================] - 4s 133ms/step - loss: 0.3338 - accuracy: 0.8817 - val_loss: 0.6739 - val_accuracy: 0.8125\n",
            "Epoch 55/100\n",
            "30/30 [==============================] - 5s 177ms/step - loss: 0.3067 - accuracy: 0.9007 - val_loss: 0.6937 - val_accuracy: 0.8062\n",
            "Epoch 56/100\n",
            "30/30 [==============================] - 4s 139ms/step - loss: 0.3032 - accuracy: 0.8986 - val_loss: 0.6346 - val_accuracy: 0.8188\n",
            "Epoch 57/100\n",
            "30/30 [==============================] - 4s 134ms/step - loss: 0.2857 - accuracy: 0.9018 - val_loss: 0.7949 - val_accuracy: 0.8125\n",
            "Epoch 58/100\n",
            "30/30 [==============================] - 5s 164ms/step - loss: 0.3137 - accuracy: 0.8807 - val_loss: 0.6289 - val_accuracy: 0.8062\n",
            "Epoch 59/100\n",
            "30/30 [==============================] - 4s 134ms/step - loss: 0.2921 - accuracy: 0.8986 - val_loss: 0.7186 - val_accuracy: 0.8188\n",
            "Epoch 60/100\n",
            "30/30 [==============================] - 4s 136ms/step - loss: 0.2916 - accuracy: 0.8997 - val_loss: 0.7661 - val_accuracy: 0.8062\n",
            "Epoch 61/100\n",
            "30/30 [==============================] - 5s 163ms/step - loss: 0.2798 - accuracy: 0.9092 - val_loss: 0.7641 - val_accuracy: 0.8125\n",
            "Epoch 62/100\n",
            "30/30 [==============================] - 4s 135ms/step - loss: 0.2906 - accuracy: 0.9018 - val_loss: 0.7666 - val_accuracy: 0.7937\n",
            "Epoch 63/100\n",
            "30/30 [==============================] - 4s 136ms/step - loss: 0.3002 - accuracy: 0.8986 - val_loss: 0.7625 - val_accuracy: 0.7937\n",
            "Epoch 64/100\n",
            "30/30 [==============================] - 5s 162ms/step - loss: 0.2807 - accuracy: 0.9039 - val_loss: 0.7525 - val_accuracy: 0.7812\n",
            "Epoch 65/100\n",
            "30/30 [==============================] - 4s 130ms/step - loss: 0.2578 - accuracy: 0.9102 - val_loss: 0.7679 - val_accuracy: 0.8188\n",
            "Epoch 66/100\n",
            "30/30 [==============================] - 4s 128ms/step - loss: 0.2777 - accuracy: 0.9081 - val_loss: 0.7592 - val_accuracy: 0.8188\n",
            "Epoch 67/100\n",
            "30/30 [==============================] - 5s 160ms/step - loss: 0.2679 - accuracy: 0.9073 - val_loss: 0.7559 - val_accuracy: 0.8313\n",
            "Epoch 68/100\n",
            "30/30 [==============================] - 4s 136ms/step - loss: 0.2833 - accuracy: 0.8976 - val_loss: 0.4892 - val_accuracy: 0.8562\n",
            "Epoch 69/100\n",
            "30/30 [==============================] - 4s 139ms/step - loss: 0.2505 - accuracy: 0.9208 - val_loss: 0.7718 - val_accuracy: 0.8125\n",
            "Epoch 70/100\n",
            "30/30 [==============================] - 5s 166ms/step - loss: 0.2773 - accuracy: 0.9081 - val_loss: 0.8491 - val_accuracy: 0.7625\n",
            "Epoch 71/100\n",
            "30/30 [==============================] - 4s 132ms/step - loss: 0.2748 - accuracy: 0.9092 - val_loss: 0.7932 - val_accuracy: 0.8250\n",
            "Epoch 72/100\n",
            "30/30 [==============================] - 4s 132ms/step - loss: 0.2538 - accuracy: 0.9104 - val_loss: 0.6919 - val_accuracy: 0.8313\n",
            "Epoch 73/100\n",
            "30/30 [==============================] - 5s 167ms/step - loss: 0.2613 - accuracy: 0.9050 - val_loss: 0.7226 - val_accuracy: 0.8250\n",
            "Epoch 74/100\n",
            "30/30 [==============================] - 4s 141ms/step - loss: 0.2715 - accuracy: 0.9018 - val_loss: 0.5683 - val_accuracy: 0.8500\n",
            "Epoch 75/100\n",
            "30/30 [==============================] - 4s 136ms/step - loss: 0.2928 - accuracy: 0.8828 - val_loss: 0.5856 - val_accuracy: 0.8375\n",
            "Epoch 76/100\n",
            "30/30 [==============================] - 4s 149ms/step - loss: 0.2647 - accuracy: 0.9113 - val_loss: 0.8229 - val_accuracy: 0.7875\n",
            "Epoch 77/100\n",
            "30/30 [==============================] - 4s 131ms/step - loss: 0.2421 - accuracy: 0.9229 - val_loss: 0.6833 - val_accuracy: 0.8438\n",
            "Epoch 78/100\n",
            "30/30 [==============================] - 4s 142ms/step - loss: 0.2372 - accuracy: 0.9197 - val_loss: 0.8524 - val_accuracy: 0.8188\n",
            "Epoch 79/100\n",
            "30/30 [==============================] - 5s 154ms/step - loss: 0.2743 - accuracy: 0.9039 - val_loss: 0.7271 - val_accuracy: 0.7812\n",
            "Epoch 80/100\n",
            "30/30 [==============================] - 4s 136ms/step - loss: 0.2667 - accuracy: 0.9071 - val_loss: 0.8237 - val_accuracy: 0.7937\n",
            "Epoch 81/100\n",
            "30/30 [==============================] - 4s 145ms/step - loss: 0.2428 - accuracy: 0.9229 - val_loss: 0.7525 - val_accuracy: 0.8313\n",
            "Epoch 82/100\n",
            "30/30 [==============================] - 5s 149ms/step - loss: 0.2463 - accuracy: 0.9271 - val_loss: 0.7064 - val_accuracy: 0.8313\n",
            "Epoch 83/100\n",
            "30/30 [==============================] - 4s 133ms/step - loss: 0.2440 - accuracy: 0.9071 - val_loss: 0.7417 - val_accuracy: 0.8438\n",
            "Epoch 84/100\n",
            "30/30 [==============================] - 4s 132ms/step - loss: 0.2481 - accuracy: 0.9092 - val_loss: 0.6961 - val_accuracy: 0.8562\n",
            "Epoch 85/100\n",
            "30/30 [==============================] - 5s 158ms/step - loss: 0.2406 - accuracy: 0.9124 - val_loss: 0.7538 - val_accuracy: 0.8562\n",
            "Epoch 86/100\n",
            "30/30 [==============================] - 4s 136ms/step - loss: 0.2291 - accuracy: 0.9113 - val_loss: 0.8817 - val_accuracy: 0.8000\n",
            "Epoch 87/100\n",
            "30/30 [==============================] - 5s 159ms/step - loss: 0.2380 - accuracy: 0.9155 - val_loss: 0.8761 - val_accuracy: 0.7750\n",
            "Epoch 88/100\n",
            "30/30 [==============================] - 4s 146ms/step - loss: 0.2369 - accuracy: 0.9113 - val_loss: 0.7864 - val_accuracy: 0.8062\n",
            "Epoch 89/100\n",
            "30/30 [==============================] - 4s 133ms/step - loss: 0.2227 - accuracy: 0.9282 - val_loss: 0.9294 - val_accuracy: 0.7688\n",
            "Epoch 90/100\n",
            "30/30 [==============================] - 5s 167ms/step - loss: 0.2121 - accuracy: 0.9208 - val_loss: 0.8113 - val_accuracy: 0.8313\n",
            "Epoch 91/100\n",
            "30/30 [==============================] - 4s 135ms/step - loss: 0.2122 - accuracy: 0.9250 - val_loss: 0.6917 - val_accuracy: 0.8500\n",
            "Epoch 92/100\n",
            "30/30 [==============================] - 4s 131ms/step - loss: 0.2284 - accuracy: 0.9166 - val_loss: 0.7911 - val_accuracy: 0.8125\n",
            "Epoch 93/100\n",
            "30/30 [==============================] - 4s 144ms/step - loss: 0.2143 - accuracy: 0.9335 - val_loss: 0.8403 - val_accuracy: 0.8313\n",
            "Epoch 94/100\n",
            "30/30 [==============================] - 4s 138ms/step - loss: 0.2079 - accuracy: 0.9240 - val_loss: 0.7001 - val_accuracy: 0.8313\n",
            "Epoch 95/100\n",
            "30/30 [==============================] - 4s 137ms/step - loss: 0.2084 - accuracy: 0.9282 - val_loss: 0.7304 - val_accuracy: 0.8375\n",
            "Epoch 96/100\n",
            "30/30 [==============================] - 4s 149ms/step - loss: 0.1969 - accuracy: 0.9335 - val_loss: 0.7858 - val_accuracy: 0.8250\n",
            "Epoch 97/100\n",
            "30/30 [==============================] - 4s 148ms/step - loss: 0.2005 - accuracy: 0.9366 - val_loss: 0.6924 - val_accuracy: 0.8625\n",
            "Epoch 98/100\n",
            "30/30 [==============================] - 4s 137ms/step - loss: 0.2261 - accuracy: 0.9229 - val_loss: 0.7615 - val_accuracy: 0.8562\n",
            "Epoch 99/100\n",
            "30/30 [==============================] - 4s 147ms/step - loss: 0.1875 - accuracy: 0.9398 - val_loss: 0.6916 - val_accuracy: 0.8562\n",
            "Epoch 100/100\n",
            "30/30 [==============================] - 4s 142ms/step - loss: 0.1962 - accuracy: 0.9293 - val_loss: 0.8324 - val_accuracy: 0.8500\n"
          ]
        }
      ]
    },
    {
      "cell_type": "code",
      "source": [
        "import matplotlib.pyplot as plt\n",
        "\n",
        "# Plot the training accuracy\n",
        "plt.plot(history.history['accuracy'])\n",
        "# Plot the validation accuracy\n",
        "plt.plot(history.history['val_accuracy'])\n",
        "plt.title('Model accuracy')\n",
        "plt.ylabel('Accuracy')\n",
        "plt.xlabel('Epoch')\n",
        "plt.legend(['Train', 'Validation'], loc='upper left')\n",
        "plt.show()\n",
        "\n",
        "# Plot the training loss\n",
        "plt.plot(history.history['loss'])\n",
        "# Plot the validation loss\n",
        "plt.plot(history.history['val_loss'])\n",
        "plt.title('Model loss')\n",
        "plt.ylabel('Loss')\n",
        "plt.xlabel('Epoch')\n",
        "plt.legend(['Train', 'Validation'], loc='upper left')\n",
        "plt.show()"
      ],
      "metadata": {
        "colab": {
          "base_uri": "https://localhost:8080/",
          "height": 573
        },
        "outputId": "909d2d29-aaf6-421d-ccd9-5d3c42de8286",
        "id": "5MJDxTCibhS4"
      },
      "execution_count": null,
      "outputs": [
        {
          "output_type": "display_data",
          "data": {
            "text/plain": [
              "<Figure size 432x288 with 1 Axes>"
            ],
            "image/png": "[encoded data removed]"
          },
          "metadata": {
            "needs_background": "light"
          }
        },
        {
          "output_type": "display_data",
          "data": {
            "text/plain": [
              "<Figure size 432x288 with 1 Axes>"
            ],
            "image/png": "[encoded data removed]"
          },
          "metadata": {
            "needs_background": "light"
          }
        }
      ]
    },
    {
      "cell_type": "code",
      "source": [
        "#Save the model\n",
        "model2.save('CNN_Nail_model_Dropout.h5')\n"
      ],
      "metadata": {
        "id": "xPQSdTjCbhS5"
      },
      "execution_count": null,
      "outputs": []
    },
    {
      "cell_type": "code",
      "source": [
        "# Load the model\n",
        "loaded_model2 = tf.keras.models.load_model('/content/CNN_Nail_model_Dropout.h5')\n"
      ],
      "metadata": {
        "id": "qFdb6CjbbhS5"
      },
      "execution_count": null,
      "outputs": []
    },
    {
      "cell_type": "code",
      "source": [
        "# Predict image\n",
        "from keras.preprocessing import image\n",
        "test_image = tf.keras.utils.load_img('/content/drive/MyDrive/Testing/abc.jpg', target_size = (64, 64))\n",
        "test_image = tf.keras.utils.img_to_array(test_image)\n",
        "test_image = np.expand_dims(test_image, axis = 0)\n",
        "result = loaded_model2.predict(test_image)\n",
        "\n",
        "# Get class labels from the generator\n",
        "class_labels = list(training_set.class_indices.keys())\n",
        "\n",
        "# Get the index of the class with the highest probability\n",
        "predicted_class_index = np.argmax(result[0])\n",
        "\n",
        "# Get the label of the predicted class\n",
        "predicted_class_label = class_labels[predicted_class_index]\n",
        "\n",
        "# Get the index of the class with the\n",
        "print(predicted_class_label)\n",
        "\n"
      ],
      "metadata": {
        "colab": {
          "base_uri": "https://localhost:8080/"
        },
        "outputId": "1b108a52-a961-49eb-950c-7c1eabd14077",
        "id": "aMZjit6tbhS5"
      },
      "execution_count": null,
      "outputs": [
        {
          "output_type": "stream",
          "name": "stdout",
          "text": [
            "1/1 [==============================] - 0s 62ms/step\n",
            "black nail\n"
          ]
        }
      ]
    },
    {
      "cell_type": "markdown",
      "source": [
        "### Model3"
      ],
      "metadata": {
        "id": "z-Z5D2IPbpBM"
      }
    },
    {
      "cell_type": "code",
      "source": [
        "model3 = Sequential()\n",
        "model3.add(Conv2D(32, (3, 3), input_shape = (64, 64, 3), activation = 'relu'))\n",
        "model3.add(Conv2D(32, (3, 3), activation = 'relu'))\n",
        "model3.add(MaxPooling2D(pool_size = (2, 2)))\n",
        "model3.add(Dropout(0.25))\n",
        "model3.add(Conv2D(64, (3, 3), activation = 'relu'))\n",
        "model3.add(Conv2D(64, (3, 3), activation = 'relu'))\n",
        "model3.add(MaxPooling2D(pool_size = (2, 2)))\n",
        "model3.add(Dropout(0.25))\n",
        "model3.add(Flatten())\n",
        "model3.add(Dense(units = 256, activation = 'relu'))\n",
        "model3.add(Dropout(0.5))\n",
        "model3.add(Dense(units = 3, activation = 'softmax'))\n",
        "model3.compile(optimizer = 'adam', loss = 'categorical_crossentropy', metrics = ['accuracy'])"
      ],
      "metadata": {
        "id": "VsRwEpAgbrCG"
      },
      "execution_count": null,
      "outputs": []
    },
    {
      "cell_type": "code",
      "source": [
        "# Compile the model\n",
        "model3.compile(optimizer = 'adam', loss = 'categorical_crossentropy', metrics = ['accuracy'])\n",
        "\n",
        "# Fit the model to the training data\n",
        "history = model3.fit_generator(training_set,\n",
        "                    steps_per_epoch = training_set.samples // training_set.batch_size,\n",
        "                    epochs = 100,\n",
        "                    validation_data = test_set,\n",
        "                    validation_steps = test_set.samples // test_set.batch_size,\n",
        "                    verbose=1)"
      ],
      "metadata": {
        "colab": {
          "base_uri": "https://localhost:8080/"
        },
        "outputId": "1246c8d6-f52c-4d83-ce50-19d91c138b58",
        "id": "6UX6qKR6b-_I"
      },
      "execution_count": null,
      "outputs": [
        {
          "output_type": "stream",
          "name": "stdout",
          "text": [
            "Epoch 1/100\n"
          ]
        },
        {
          "output_type": "stream",
          "name": "stderr",
          "text": [
            "<ipython-input-24-f5e57df17afe>:5: UserWarning: `Model.fit_generator` is deprecated and will be removed in a future version. Please use `Model.fit`, which supports generators.\n",
            "  history = model3.fit_generator(training_set,\n"
          ]
        },
        {
          "output_type": "stream",
          "name": "stdout",
          "text": [
            "30/30 [==============================] - 7s 143ms/step - loss: 1.0964 - accuracy: 0.4477 - val_loss: 1.0860 - val_accuracy: 0.3938\n",
            "Epoch 2/100\n",
            "30/30 [==============================] - 4s 138ms/step - loss: 1.0329 - accuracy: 0.4667 - val_loss: 1.0695 - val_accuracy: 0.4625\n",
            "Epoch 3/100\n",
            "30/30 [==============================] - 4s 147ms/step - loss: 1.0013 - accuracy: 0.5290 - val_loss: 1.0567 - val_accuracy: 0.4500\n",
            "Epoch 4/100\n",
            "30/30 [==============================] - 5s 153ms/step - loss: 0.9333 - accuracy: 0.5554 - val_loss: 0.9975 - val_accuracy: 0.5375\n",
            "Epoch 5/100\n",
            "30/30 [==============================] - 4s 139ms/step - loss: 0.8719 - accuracy: 0.6177 - val_loss: 0.9446 - val_accuracy: 0.5875\n",
            "Epoch 6/100\n",
            "30/30 [==============================] - 5s 155ms/step - loss: 0.8198 - accuracy: 0.6367 - val_loss: 0.9884 - val_accuracy: 0.5750\n",
            "Epoch 7/100\n",
            "30/30 [==============================] - 4s 147ms/step - loss: 0.7806 - accuracy: 0.6505 - val_loss: 0.9468 - val_accuracy: 0.6000\n",
            "Epoch 8/100\n",
            "30/30 [==============================] - 4s 137ms/step - loss: 0.7407 - accuracy: 0.6938 - val_loss: 0.9303 - val_accuracy: 0.6062\n",
            "Epoch 9/100\n",
            "30/30 [==============================] - 5s 176ms/step - loss: 0.6929 - accuracy: 0.6980 - val_loss: 1.0026 - val_accuracy: 0.5562\n",
            "Epoch 10/100\n",
            "30/30 [==============================] - 4s 141ms/step - loss: 0.6855 - accuracy: 0.7043 - val_loss: 0.9232 - val_accuracy: 0.6187\n",
            "Epoch 11/100\n",
            "30/30 [==============================] - 5s 167ms/step - loss: 0.6462 - accuracy: 0.7371 - val_loss: 0.8767 - val_accuracy: 0.6500\n",
            "Epoch 12/100\n",
            "30/30 [==============================] - 4s 137ms/step - loss: 0.6377 - accuracy: 0.7413 - val_loss: 0.8576 - val_accuracy: 0.6187\n",
            "Epoch 13/100\n",
            "30/30 [==============================] - 4s 142ms/step - loss: 0.6385 - accuracy: 0.7413 - val_loss: 0.8610 - val_accuracy: 0.6500\n",
            "Epoch 14/100\n",
            "30/30 [==============================] - 5s 162ms/step - loss: 0.5782 - accuracy: 0.7656 - val_loss: 0.9138 - val_accuracy: 0.6875\n",
            "Epoch 15/100\n",
            "30/30 [==============================] - 4s 144ms/step - loss: 0.5684 - accuracy: 0.7856 - val_loss: 0.8116 - val_accuracy: 0.7000\n",
            "Epoch 16/100\n",
            "30/30 [==============================] - 4s 142ms/step - loss: 0.5702 - accuracy: 0.7709 - val_loss: 0.8356 - val_accuracy: 0.7063\n",
            "Epoch 17/100\n",
            "30/30 [==============================] - 5s 164ms/step - loss: 0.5225 - accuracy: 0.7941 - val_loss: 0.8685 - val_accuracy: 0.7250\n",
            "Epoch 18/100\n",
            "30/30 [==============================] - 4s 141ms/step - loss: 0.5384 - accuracy: 0.7835 - val_loss: 0.8118 - val_accuracy: 0.7437\n",
            "Epoch 19/100\n",
            "30/30 [==============================] - 4s 137ms/step - loss: 0.5233 - accuracy: 0.7930 - val_loss: 0.7515 - val_accuracy: 0.7500\n",
            "Epoch 20/100\n",
            "30/30 [==============================] - 5s 168ms/step - loss: 0.5001 - accuracy: 0.7909 - val_loss: 0.7680 - val_accuracy: 0.7312\n",
            "Epoch 21/100\n",
            "30/30 [==============================] - 4s 143ms/step - loss: 0.4816 - accuracy: 0.7983 - val_loss: 0.7784 - val_accuracy: 0.7125\n",
            "Epoch 22/100\n",
            "30/30 [==============================] - 4s 140ms/step - loss: 0.4857 - accuracy: 0.8099 - val_loss: 0.8370 - val_accuracy: 0.7437\n",
            "Epoch 23/100\n",
            "30/30 [==============================] - 5s 175ms/step - loss: 0.4510 - accuracy: 0.8226 - val_loss: 0.7780 - val_accuracy: 0.7500\n",
            "Epoch 24/100\n",
            "30/30 [==============================] - 4s 144ms/step - loss: 0.4587 - accuracy: 0.8268 - val_loss: 0.7678 - val_accuracy: 0.7250\n",
            "Epoch 25/100\n",
            "30/30 [==============================] - 5s 160ms/step - loss: 0.4509 - accuracy: 0.8194 - val_loss: 0.8255 - val_accuracy: 0.7188\n",
            "Epoch 26/100\n",
            "30/30 [==============================] - 4s 138ms/step - loss: 0.4396 - accuracy: 0.8237 - val_loss: 0.8724 - val_accuracy: 0.7250\n",
            "Epoch 27/100\n",
            "30/30 [==============================] - 5s 178ms/step - loss: 0.4273 - accuracy: 0.8289 - val_loss: 0.8196 - val_accuracy: 0.7437\n",
            "Epoch 28/100\n",
            "30/30 [==============================] - 5s 150ms/step - loss: 0.3999 - accuracy: 0.8268 - val_loss: 0.7730 - val_accuracy: 0.8000\n",
            "Epoch 29/100\n",
            "30/30 [==============================] - 4s 141ms/step - loss: 0.4036 - accuracy: 0.8479 - val_loss: 0.7913 - val_accuracy: 0.7437\n",
            "Epoch 30/100\n",
            "30/30 [==============================] - 5s 160ms/step - loss: 0.3666 - accuracy: 0.8479 - val_loss: 0.8584 - val_accuracy: 0.7437\n",
            "Epoch 31/100\n",
            "30/30 [==============================] - 4s 147ms/step - loss: 0.3952 - accuracy: 0.8395 - val_loss: 0.9002 - val_accuracy: 0.7688\n",
            "Epoch 32/100\n",
            "30/30 [==============================] - 4s 144ms/step - loss: 0.3695 - accuracy: 0.8574 - val_loss: 0.7668 - val_accuracy: 0.7375\n",
            "Epoch 33/100\n",
            "30/30 [==============================] - 5s 172ms/step - loss: 0.3333 - accuracy: 0.8743 - val_loss: 0.7987 - val_accuracy: 0.7812\n",
            "Epoch 34/100\n",
            "30/30 [==============================] - 4s 146ms/step - loss: 0.3766 - accuracy: 0.8627 - val_loss: 0.8797 - val_accuracy: 0.7688\n",
            "Epoch 35/100\n",
            "30/30 [==============================] - 5s 175ms/step - loss: 0.3597 - accuracy: 0.8564 - val_loss: 0.7661 - val_accuracy: 0.7625\n",
            "Epoch 36/100\n",
            "30/30 [==============================] - 4s 138ms/step - loss: 0.3217 - accuracy: 0.8733 - val_loss: 0.9287 - val_accuracy: 0.7688\n",
            "Epoch 37/100\n",
            "30/30 [==============================] - 4s 139ms/step - loss: 0.3731 - accuracy: 0.8553 - val_loss: 0.8582 - val_accuracy: 0.7437\n",
            "Epoch 38/100\n",
            "30/30 [==============================] - 5s 176ms/step - loss: 0.3860 - accuracy: 0.8469 - val_loss: 0.8378 - val_accuracy: 0.7375\n",
            "Epoch 39/100\n",
            "30/30 [==============================] - 4s 142ms/step - loss: 0.3161 - accuracy: 0.8701 - val_loss: 0.8354 - val_accuracy: 0.7875\n",
            "Epoch 40/100\n",
            "30/30 [==============================] - 5s 167ms/step - loss: 0.3481 - accuracy: 0.8648 - val_loss: 0.8145 - val_accuracy: 0.7625\n",
            "Epoch 41/100\n",
            "30/30 [==============================] - 4s 139ms/step - loss: 0.3243 - accuracy: 0.8786 - val_loss: 0.7331 - val_accuracy: 0.7812\n",
            "Epoch 42/100\n",
            "30/30 [==============================] - 4s 147ms/step - loss: 0.2820 - accuracy: 0.8849 - val_loss: 0.8599 - val_accuracy: 0.7875\n",
            "Epoch 43/100\n",
            "30/30 [==============================] - 5s 153ms/step - loss: 0.3279 - accuracy: 0.8849 - val_loss: 0.6692 - val_accuracy: 0.7937\n",
            "Epoch 44/100\n",
            "30/30 [==============================] - 4s 139ms/step - loss: 0.2893 - accuracy: 0.8955 - val_loss: 0.7430 - val_accuracy: 0.7625\n",
            "Epoch 45/100\n",
            "30/30 [==============================] - 5s 166ms/step - loss: 0.2778 - accuracy: 0.8955 - val_loss: 0.6958 - val_accuracy: 0.7812\n",
            "Epoch 46/100\n",
            "30/30 [==============================] - 4s 148ms/step - loss: 0.2300 - accuracy: 0.9240 - val_loss: 0.7839 - val_accuracy: 0.7750\n",
            "Epoch 47/100\n",
            "30/30 [==============================] - 4s 139ms/step - loss: 0.2491 - accuracy: 0.9018 - val_loss: 0.7252 - val_accuracy: 0.8313\n",
            "Epoch 48/100\n",
            "30/30 [==============================] - 5s 171ms/step - loss: 0.2971 - accuracy: 0.8965 - val_loss: 0.8533 - val_accuracy: 0.8062\n",
            "Epoch 49/100\n",
            "30/30 [==============================] - 4s 139ms/step - loss: 0.2517 - accuracy: 0.9092 - val_loss: 0.7288 - val_accuracy: 0.8125\n",
            "Epoch 50/100\n",
            "30/30 [==============================] - 4s 138ms/step - loss: 0.2303 - accuracy: 0.9060 - val_loss: 0.7447 - val_accuracy: 0.7875\n",
            "Epoch 51/100\n",
            "30/30 [==============================] - 5s 165ms/step - loss: 0.2308 - accuracy: 0.9155 - val_loss: 0.6746 - val_accuracy: 0.8438\n",
            "Epoch 52/100\n",
            "30/30 [==============================] - 4s 143ms/step - loss: 0.2387 - accuracy: 0.8933 - val_loss: 0.7670 - val_accuracy: 0.7937\n",
            "Epoch 53/100\n",
            "30/30 [==============================] - 4s 143ms/step - loss: 0.2204 - accuracy: 0.9261 - val_loss: 0.6505 - val_accuracy: 0.8062\n",
            "Epoch 54/100\n",
            "30/30 [==============================] - 5s 170ms/step - loss: 0.2146 - accuracy: 0.9124 - val_loss: 0.6916 - val_accuracy: 0.7812\n",
            "Epoch 55/100\n",
            "30/30 [==============================] - 4s 139ms/step - loss: 0.2592 - accuracy: 0.9018 - val_loss: 0.8475 - val_accuracy: 0.8313\n",
            "Epoch 56/100\n",
            "30/30 [==============================] - 4s 142ms/step - loss: 0.2331 - accuracy: 0.9145 - val_loss: 0.6622 - val_accuracy: 0.8313\n",
            "Epoch 57/100\n",
            "30/30 [==============================] - 5s 166ms/step - loss: 0.2242 - accuracy: 0.9240 - val_loss: 0.8263 - val_accuracy: 0.8125\n",
            "Epoch 58/100\n",
            "30/30 [==============================] - 4s 141ms/step - loss: 0.2077 - accuracy: 0.9261 - val_loss: 0.9031 - val_accuracy: 0.8188\n",
            "Epoch 59/100\n",
            "30/30 [==============================] - 4s 138ms/step - loss: 0.1714 - accuracy: 0.9377 - val_loss: 0.8844 - val_accuracy: 0.8313\n",
            "Epoch 60/100\n",
            "30/30 [==============================] - 5s 178ms/step - loss: 0.2248 - accuracy: 0.9261 - val_loss: 0.6461 - val_accuracy: 0.8250\n",
            "Epoch 61/100\n",
            "30/30 [==============================] - 4s 139ms/step - loss: 0.1898 - accuracy: 0.9366 - val_loss: 0.8212 - val_accuracy: 0.8000\n",
            "Epoch 62/100\n",
            "30/30 [==============================] - 5s 166ms/step - loss: 0.1832 - accuracy: 0.9250 - val_loss: 0.8958 - val_accuracy: 0.8000\n",
            "Epoch 63/100\n",
            "30/30 [==============================] - 4s 138ms/step - loss: 0.2272 - accuracy: 0.9124 - val_loss: 0.8109 - val_accuracy: 0.8000\n",
            "Epoch 64/100\n",
            "30/30 [==============================] - 4s 140ms/step - loss: 0.1866 - accuracy: 0.9293 - val_loss: 0.7094 - val_accuracy: 0.8188\n",
            "Epoch 65/100\n",
            "30/30 [==============================] - 5s 176ms/step - loss: 0.2163 - accuracy: 0.9155 - val_loss: 1.0633 - val_accuracy: 0.8000\n",
            "Epoch 66/100\n",
            "30/30 [==============================] - 4s 147ms/step - loss: 0.1781 - accuracy: 0.9303 - val_loss: 0.8681 - val_accuracy: 0.8313\n",
            "Epoch 67/100\n",
            "30/30 [==============================] - 4s 146ms/step - loss: 0.2036 - accuracy: 0.9261 - val_loss: 0.8635 - val_accuracy: 0.7937\n",
            "Epoch 68/100\n",
            "30/30 [==============================] - 5s 177ms/step - loss: 0.1718 - accuracy: 0.9356 - val_loss: 0.8159 - val_accuracy: 0.8313\n",
            "Epoch 69/100\n",
            "30/30 [==============================] - 4s 144ms/step - loss: 0.2126 - accuracy: 0.9197 - val_loss: 0.6772 - val_accuracy: 0.8188\n",
            "Epoch 70/100\n",
            "30/30 [==============================] - 5s 159ms/step - loss: 0.2077 - accuracy: 0.9208 - val_loss: 0.9941 - val_accuracy: 0.7937\n",
            "Epoch 71/100\n",
            "30/30 [==============================] - 4s 139ms/step - loss: 0.2383 - accuracy: 0.9219 - val_loss: 0.8981 - val_accuracy: 0.7688\n",
            "Epoch 72/100\n",
            "30/30 [==============================] - 5s 160ms/step - loss: 0.1713 - accuracy: 0.9335 - val_loss: 0.8309 - val_accuracy: 0.8188\n",
            "Epoch 73/100\n",
            "30/30 [==============================] - 5s 149ms/step - loss: 0.1450 - accuracy: 0.9419 - val_loss: 1.0665 - val_accuracy: 0.7937\n",
            "Epoch 74/100\n",
            "30/30 [==============================] - 4s 139ms/step - loss: 0.1544 - accuracy: 0.9409 - val_loss: 0.9069 - val_accuracy: 0.8250\n",
            "Epoch 75/100\n",
            "30/30 [==============================] - 6s 187ms/step - loss: 0.1314 - accuracy: 0.9388 - val_loss: 0.8755 - val_accuracy: 0.8188\n",
            "Epoch 76/100\n",
            "30/30 [==============================] - 4s 137ms/step - loss: 0.1360 - accuracy: 0.9504 - val_loss: 0.8721 - val_accuracy: 0.8250\n",
            "Epoch 77/100\n",
            "30/30 [==============================] - 5s 173ms/step - loss: 0.1364 - accuracy: 0.9514 - val_loss: 0.7533 - val_accuracy: 0.8125\n",
            "Epoch 78/100\n",
            "30/30 [==============================] - 4s 147ms/step - loss: 0.1431 - accuracy: 0.9514 - val_loss: 0.6541 - val_accuracy: 0.8250\n",
            "Epoch 79/100\n",
            "30/30 [==============================] - 4s 143ms/step - loss: 0.1337 - accuracy: 0.9451 - val_loss: 0.7499 - val_accuracy: 0.8250\n",
            "Epoch 80/100\n",
            "30/30 [==============================] - 5s 174ms/step - loss: 0.1449 - accuracy: 0.9440 - val_loss: 0.9623 - val_accuracy: 0.8250\n",
            "Epoch 81/100\n",
            "30/30 [==============================] - 4s 145ms/step - loss: 0.1206 - accuracy: 0.9525 - val_loss: 0.9477 - val_accuracy: 0.8500\n",
            "Epoch 82/100\n",
            "30/30 [==============================] - 5s 159ms/step - loss: 0.1166 - accuracy: 0.9531 - val_loss: 1.0761 - val_accuracy: 0.8188\n",
            "Epoch 83/100\n",
            "30/30 [==============================] - 4s 145ms/step - loss: 0.1681 - accuracy: 0.9409 - val_loss: 0.7982 - val_accuracy: 0.8375\n",
            "Epoch 84/100\n",
            "30/30 [==============================] - 5s 158ms/step - loss: 0.1436 - accuracy: 0.9461 - val_loss: 0.8102 - val_accuracy: 0.8250\n",
            "Epoch 85/100\n",
            "30/30 [==============================] - 5s 160ms/step - loss: 0.1346 - accuracy: 0.9567 - val_loss: 0.7768 - val_accuracy: 0.8313\n",
            "Epoch 86/100\n",
            "30/30 [==============================] - 4s 139ms/step - loss: 0.1295 - accuracy: 0.9567 - val_loss: 0.9387 - val_accuracy: 0.8250\n",
            "Epoch 87/100\n",
            "30/30 [==============================] - 5s 167ms/step - loss: 0.1102 - accuracy: 0.9620 - val_loss: 1.0257 - val_accuracy: 0.8313\n",
            "Epoch 88/100\n",
            "30/30 [==============================] - 5s 150ms/step - loss: 0.1569 - accuracy: 0.9430 - val_loss: 0.6995 - val_accuracy: 0.8438\n",
            "Epoch 89/100\n",
            "30/30 [==============================] - 4s 142ms/step - loss: 0.1657 - accuracy: 0.9430 - val_loss: 0.7661 - val_accuracy: 0.8250\n",
            "Epoch 90/100\n",
            "30/30 [==============================] - 5s 169ms/step - loss: 0.1453 - accuracy: 0.9409 - val_loss: 0.9142 - val_accuracy: 0.8062\n",
            "Epoch 91/100\n",
            "30/30 [==============================] - 4s 141ms/step - loss: 0.1058 - accuracy: 0.9620 - val_loss: 0.8729 - val_accuracy: 0.8313\n",
            "Epoch 92/100\n",
            "30/30 [==============================] - 4s 141ms/step - loss: 0.0940 - accuracy: 0.9630 - val_loss: 1.0928 - val_accuracy: 0.8375\n",
            "Epoch 93/100\n",
            "30/30 [==============================] - 5s 174ms/step - loss: 0.1358 - accuracy: 0.9567 - val_loss: 0.7736 - val_accuracy: 0.8438\n",
            "Epoch 94/100\n",
            "30/30 [==============================] - 4s 138ms/step - loss: 0.1414 - accuracy: 0.9451 - val_loss: 0.8864 - val_accuracy: 0.8250\n",
            "Epoch 95/100\n",
            "30/30 [==============================] - 5s 164ms/step - loss: 0.1200 - accuracy: 0.9578 - val_loss: 0.7708 - val_accuracy: 0.8375\n",
            "Epoch 96/100\n",
            "30/30 [==============================] - 4s 139ms/step - loss: 0.1082 - accuracy: 0.9567 - val_loss: 0.8603 - val_accuracy: 0.8188\n",
            "Epoch 97/100\n",
            "30/30 [==============================] - 4s 144ms/step - loss: 0.0987 - accuracy: 0.9599 - val_loss: 0.8475 - val_accuracy: 0.8562\n",
            "Epoch 98/100\n",
            "30/30 [==============================] - 5s 171ms/step - loss: 0.1239 - accuracy: 0.9588 - val_loss: 0.6904 - val_accuracy: 0.8438\n",
            "Epoch 99/100\n",
            "30/30 [==============================] - 4s 142ms/step - loss: 0.1346 - accuracy: 0.9556 - val_loss: 0.6587 - val_accuracy: 0.8375\n",
            "Epoch 100/100\n",
            "30/30 [==============================] - 5s 162ms/step - loss: 0.1238 - accuracy: 0.9599 - val_loss: 0.7623 - val_accuracy: 0.8500\n"
          ]
        }
      ]
    },
    {
      "cell_type": "code",
      "source": [
        "import matplotlib.pyplot as plt\n",
        "\n",
        "# Plot the training accuracy\n",
        "plt.plot(history.history['accuracy'])\n",
        "# Plot the validation accuracy\n",
        "plt.plot(history.history['val_accuracy'])\n",
        "plt.title('Model accuracy')\n",
        "plt.ylabel('Accuracy')\n",
        "plt.xlabel('Epoch')\n",
        "plt.legend(['Train', 'Validation'], loc='upper left')\n",
        "plt.show()\n",
        "\n",
        "# Plot the training loss\n",
        "plt.plot(history.history['loss'])\n",
        "# Plot the validation loss\n",
        "plt.plot(history.history['val_loss'])\n",
        "plt.title('Model loss')\n",
        "plt.ylabel('Loss')\n",
        "plt.xlabel('Epoch')\n",
        "plt.legend(['Train', 'Validation'], loc='upper left')\n",
        "plt.show()"
      ],
      "metadata": {
        "colab": {
          "base_uri": "https://localhost:8080/",
          "height": 573
        },
        "outputId": "76b6d878-fbc0-44ba-92a2-79618663c165",
        "id": "7YXVVIRVb-_I"
      },
      "execution_count": null,
      "outputs": [
        {
          "output_type": "display_data",
          "data": {
            "text/plain": [
              "<Figure size 432x288 with 1 Axes>"
            ],
            "image/png": "[encoded data removed]"
          },
          "metadata": {
            "needs_background": "light"
          }
        },
        {
          "output_type": "display_data",
          "data": {
            "text/plain": [
              "<Figure size 432x288 with 1 Axes>"
            ],
            "image/png": "[encoded data removed]"
          },
          "metadata": {
            "needs_background": "light"
          }
        }
      ]
    },
    {
      "cell_type": "code",
      "source": [
        "#Save the model\n",
        "model3.save('CNN_Nail_model3_VGG.h5')\n"
      ],
      "metadata": {
        "id": "0xbCOfTnb-_J"
      },
      "execution_count": null,
      "outputs": []
    },
    {
      "cell_type": "code",
      "source": [
        "# Load the model\n",
        "loaded_model3 = tf.keras.models.load_model('/content/CNN_Nail_model3_VGG.h5')\n"
      ],
      "metadata": {
        "id": "2w76L7Wzb-_J"
      },
      "execution_count": null,
      "outputs": []
    },
    {
      "cell_type": "code",
      "source": [
        "# Predict image\n",
        "from keras.preprocessing import image\n",
        "test_image = tf.keras.utils.load_img('/content/drive/MyDrive/Testing/abc.jpg', target_size = (64, 64))\n",
        "test_image = tf.keras.utils.img_to_array(test_image)\n",
        "test_image = np.expand_dims(test_image, axis = 0)\n",
        "result = loaded_model3.predict(test_image)\n",
        "\n",
        "# Get class labels from the generator\n",
        "class_labels = list(training_set.class_indices.keys())\n",
        "\n",
        "# Get the index of the class with the highest probability\n",
        "predicted_class_index = np.argmax(result[0])\n",
        "\n",
        "# Get the label of the predicted class\n",
        "predicted_class_label = class_labels[predicted_class_index]\n",
        "\n",
        "# Get the index of the class with the\n",
        "print(predicted_class_label)\n",
        "\n"
      ],
      "metadata": {
        "colab": {
          "base_uri": "https://localhost:8080/"
        },
        "outputId": "e88d7e65-4af1-4f27-9c75-745b40785acc",
        "id": "l04oDCxmb-_J"
      },
      "execution_count": null,
      "outputs": [
        {
          "output_type": "stream",
          "name": "stdout",
          "text": [
            "1/1 [==============================] - 0s 141ms/step\n",
            "black nail\n"
          ]
        }
      ]
    },
    {
      "cell_type": "markdown",
      "source": [
        "### Model4"
      ],
      "metadata": {
        "id": "VWGuwa_PcFQx"
      }
    },
    {
      "cell_type": "code",
      "source": [
        "from keras.layers import Input, BatchNormalization, Activation, Conv2D, Add,GlobalAveragePooling2D\n",
        "from keras.models import Model"
      ],
      "metadata": {
        "id": "I4EZ-ZTecXcU"
      },
      "execution_count": null,
      "outputs": []
    },
    {
      "cell_type": "code",
      "source": [
        "from keras.layers import Add\n",
        "\n",
        "inputs = Input(shape=(64, 64, 3))\n",
        "\n",
        "x = Conv2D(32, 3, strides=2, padding='same')(inputs)\n",
        "x = BatchNormalization()(x)\n",
        "x = Activation('relu')(x)\n",
        "\n",
        "residual = x\n",
        "\n",
        "x = Conv2D(32, 3, strides=1, padding='same')(x)\n",
        "x = BatchNormalization()(x)\n",
        "x = Activation('relu')(x)\n",
        "\n",
        "x = Conv2D(32, 3, strides=1, padding='same')(x)\n",
        "x = BatchNormalization()(x)\n",
        "\n",
        "x = Add()([x, residual])\n",
        "x = Activation('relu')(x)\n",
        "\n",
        "x = GlobalAveragePooling2D()(x)\n",
        "output = Dense(units = 3, activation = 'softmax')(x)\n",
        "\n",
        "model4 = Model(inputs, output)\n",
        "model4.compile(optimizer = 'adam', loss = 'categorical_crossentropy', metrics = ['accuracy'])\n"
      ],
      "metadata": {
        "id": "ol4wld6zcIOX"
      },
      "execution_count": null,
      "outputs": []
    },
    {
      "cell_type": "code",
      "source": [
        "# Compile the model\n",
        "model4.compile(optimizer = 'adam', loss = 'categorical_crossentropy', metrics = ['accuracy'])\n",
        "\n",
        "# Fit the model to the training data\n",
        "history = model4.fit_generator(training_set,\n",
        "                    steps_per_epoch = training_set.samples // training_set.batch_size,\n",
        "                    epochs = 100,\n",
        "                    validation_data = test_set,\n",
        "                    validation_steps = test_set.samples // test_set.batch_size,\n",
        "                    verbose=1)"
      ],
      "metadata": {
        "colab": {
          "base_uri": "https://localhost:8080/"
        },
        "outputId": "3366d514-0a99-4da7-9877-87e6e74ec31f",
        "id": "smvEeKqlceAB"
      },
      "execution_count": null,
      "outputs": [
        {
          "output_type": "stream",
          "name": "stdout",
          "text": [
            "Epoch 1/100\n"
          ]
        },
        {
          "output_type": "stream",
          "name": "stderr",
          "text": [
            "<ipython-input-31-ebbcbf3ee466>:5: UserWarning: `Model.fit_generator` is deprecated and will be removed in a future version. Please use `Model.fit`, which supports generators.\n",
            "  history = model4.fit_generator(training_set,\n"
          ]
        },
        {
          "output_type": "stream",
          "name": "stdout",
          "text": [
            "30/30 [==============================] - 7s 146ms/step - loss: 1.0309 - accuracy: 0.4784 - val_loss: 1.0876 - val_accuracy: 0.4125\n",
            "Epoch 2/100\n",
            "30/30 [==============================] - 4s 139ms/step - loss: 0.9491 - accuracy: 0.5428 - val_loss: 1.0795 - val_accuracy: 0.4187\n",
            "Epoch 3/100\n",
            "30/30 [==============================] - 4s 135ms/step - loss: 0.9250 - accuracy: 0.5660 - val_loss: 1.1062 - val_accuracy: 0.4187\n",
            "Epoch 4/100\n",
            "30/30 [==============================] - 5s 151ms/step - loss: 0.8713 - accuracy: 0.6241 - val_loss: 1.1993 - val_accuracy: 0.4125\n",
            "Epoch 5/100\n",
            "30/30 [==============================] - 4s 135ms/step - loss: 0.8806 - accuracy: 0.5861 - val_loss: 1.1365 - val_accuracy: 0.4187\n",
            "Epoch 6/100\n",
            "30/30 [==============================] - 5s 153ms/step - loss: 0.8623 - accuracy: 0.6177 - val_loss: 1.2197 - val_accuracy: 0.4187\n",
            "Epoch 7/100\n",
            "30/30 [==============================] - 4s 146ms/step - loss: 0.8479 - accuracy: 0.6188 - val_loss: 1.3413 - val_accuracy: 0.4125\n",
            "Epoch 8/100\n",
            "30/30 [==============================] - 4s 136ms/step - loss: 0.8518 - accuracy: 0.6177 - val_loss: 1.2684 - val_accuracy: 0.4062\n",
            "Epoch 9/100\n",
            "30/30 [==============================] - 5s 158ms/step - loss: 0.8376 - accuracy: 0.6294 - val_loss: 1.0971 - val_accuracy: 0.4187\n",
            "Epoch 10/100\n",
            "30/30 [==============================] - 4s 146ms/step - loss: 0.8236 - accuracy: 0.6294 - val_loss: 1.1869 - val_accuracy: 0.4187\n",
            "Epoch 11/100\n",
            "30/30 [==============================] - 4s 141ms/step - loss: 0.8033 - accuracy: 0.6484 - val_loss: 1.1960 - val_accuracy: 0.4062\n",
            "Epoch 12/100\n",
            "30/30 [==============================] - 5s 162ms/step - loss: 0.7996 - accuracy: 0.6769 - val_loss: 1.1477 - val_accuracy: 0.4250\n",
            "Epoch 13/100\n",
            "30/30 [==============================] - 4s 137ms/step - loss: 0.7872 - accuracy: 0.6473 - val_loss: 1.2456 - val_accuracy: 0.4375\n",
            "Epoch 14/100\n",
            "30/30 [==============================] - 4s 135ms/step - loss: 0.7857 - accuracy: 0.6579 - val_loss: 1.3829 - val_accuracy: 0.4187\n",
            "Epoch 15/100\n",
            "30/30 [==============================] - 5s 185ms/step - loss: 0.7747 - accuracy: 0.6653 - val_loss: 1.1723 - val_accuracy: 0.5188\n",
            "Epoch 16/100\n",
            "30/30 [==============================] - 4s 141ms/step - loss: 0.7650 - accuracy: 0.6547 - val_loss: 0.9861 - val_accuracy: 0.4875\n",
            "Epoch 17/100\n",
            "30/30 [==============================] - 5s 168ms/step - loss: 0.7569 - accuracy: 0.6758 - val_loss: 0.9471 - val_accuracy: 0.5375\n",
            "Epoch 18/100\n",
            "30/30 [==============================] - 4s 134ms/step - loss: 0.7622 - accuracy: 0.6663 - val_loss: 0.9370 - val_accuracy: 0.5875\n",
            "Epoch 19/100\n",
            "30/30 [==============================] - 4s 142ms/step - loss: 0.7255 - accuracy: 0.6969 - val_loss: 0.8197 - val_accuracy: 0.5813\n",
            "Epoch 20/100\n",
            "30/30 [==============================] - 5s 159ms/step - loss: 0.7309 - accuracy: 0.6906 - val_loss: 0.8633 - val_accuracy: 0.5813\n",
            "Epoch 21/100\n",
            "30/30 [==============================] - 4s 141ms/step - loss: 0.7114 - accuracy: 0.7107 - val_loss: 0.7736 - val_accuracy: 0.7188\n",
            "Epoch 22/100\n",
            "30/30 [==============================] - 4s 144ms/step - loss: 0.6911 - accuracy: 0.7202 - val_loss: 0.8476 - val_accuracy: 0.6625\n",
            "Epoch 23/100\n",
            "30/30 [==============================] - 5s 155ms/step - loss: 0.7058 - accuracy: 0.7054 - val_loss: 0.8197 - val_accuracy: 0.6250\n",
            "Epoch 24/100\n",
            "30/30 [==============================] - 4s 138ms/step - loss: 0.7236 - accuracy: 0.6853 - val_loss: 0.9110 - val_accuracy: 0.5500\n",
            "Epoch 25/100\n",
            "30/30 [==============================] - 4s 143ms/step - loss: 0.6735 - accuracy: 0.7297 - val_loss: 1.3680 - val_accuracy: 0.4250\n",
            "Epoch 26/100\n",
            "30/30 [==============================] - 4s 141ms/step - loss: 0.6564 - accuracy: 0.7375 - val_loss: 0.8827 - val_accuracy: 0.6000\n",
            "Epoch 27/100\n",
            "30/30 [==============================] - 4s 137ms/step - loss: 0.6743 - accuracy: 0.7328 - val_loss: 1.1176 - val_accuracy: 0.5938\n",
            "Epoch 28/100\n",
            "30/30 [==============================] - 5s 182ms/step - loss: 0.6742 - accuracy: 0.7265 - val_loss: 1.7060 - val_accuracy: 0.4313\n",
            "Epoch 29/100\n",
            "30/30 [==============================] - 4s 132ms/step - loss: 0.6975 - accuracy: 0.7128 - val_loss: 1.9741 - val_accuracy: 0.3812\n",
            "Epoch 30/100\n",
            "30/30 [==============================] - 4s 134ms/step - loss: 0.6511 - accuracy: 0.7328 - val_loss: 1.3330 - val_accuracy: 0.4187\n",
            "Epoch 31/100\n",
            "30/30 [==============================] - 5s 165ms/step - loss: 0.6446 - accuracy: 0.7371 - val_loss: 0.7083 - val_accuracy: 0.7437\n",
            "Epoch 32/100\n",
            "30/30 [==============================] - 4s 132ms/step - loss: 0.6261 - accuracy: 0.7497 - val_loss: 1.1038 - val_accuracy: 0.5813\n",
            "Epoch 33/100\n",
            "30/30 [==============================] - 4s 133ms/step - loss: 0.6311 - accuracy: 0.7592 - val_loss: 1.1608 - val_accuracy: 0.6062\n",
            "Epoch 34/100\n",
            "30/30 [==============================] - 5s 169ms/step - loss: 0.6405 - accuracy: 0.7497 - val_loss: 2.1594 - val_accuracy: 0.4375\n",
            "Epoch 35/100\n",
            "30/30 [==============================] - 4s 139ms/step - loss: 0.6335 - accuracy: 0.7476 - val_loss: 1.0328 - val_accuracy: 0.5813\n",
            "Epoch 36/100\n",
            "30/30 [==============================] - 4s 132ms/step - loss: 0.6219 - accuracy: 0.7458 - val_loss: 1.5498 - val_accuracy: 0.4688\n",
            "Epoch 37/100\n",
            "30/30 [==============================] - 5s 170ms/step - loss: 0.6288 - accuracy: 0.7508 - val_loss: 1.2008 - val_accuracy: 0.5250\n",
            "Epoch 38/100\n",
            "30/30 [==============================] - 4s 136ms/step - loss: 0.5978 - accuracy: 0.7635 - val_loss: 0.8729 - val_accuracy: 0.6500\n",
            "Epoch 39/100\n",
            "30/30 [==============================] - 4s 138ms/step - loss: 0.6451 - accuracy: 0.7265 - val_loss: 1.1184 - val_accuracy: 0.5250\n",
            "Epoch 40/100\n",
            "30/30 [==============================] - 5s 168ms/step - loss: 0.6213 - accuracy: 0.7561 - val_loss: 0.7397 - val_accuracy: 0.6625\n",
            "Epoch 41/100\n",
            "30/30 [==============================] - 4s 134ms/step - loss: 0.6077 - accuracy: 0.7814 - val_loss: 1.1102 - val_accuracy: 0.5750\n",
            "Epoch 42/100\n",
            "30/30 [==============================] - 4s 132ms/step - loss: 0.5852 - accuracy: 0.7793 - val_loss: 0.7735 - val_accuracy: 0.6438\n",
            "Epoch 43/100\n",
            "30/30 [==============================] - 5s 164ms/step - loss: 0.6141 - accuracy: 0.7624 - val_loss: 1.6076 - val_accuracy: 0.5625\n",
            "Epoch 44/100\n",
            "30/30 [==============================] - 4s 133ms/step - loss: 0.5807 - accuracy: 0.7582 - val_loss: 0.9069 - val_accuracy: 0.5938\n",
            "Epoch 45/100\n",
            "30/30 [==============================] - 4s 134ms/step - loss: 0.5684 - accuracy: 0.7772 - val_loss: 0.8970 - val_accuracy: 0.5750\n",
            "Epoch 46/100\n",
            "30/30 [==============================] - 5s 152ms/step - loss: 0.5660 - accuracy: 0.7878 - val_loss: 1.7908 - val_accuracy: 0.3938\n",
            "Epoch 47/100\n",
            "30/30 [==============================] - 4s 138ms/step - loss: 0.5594 - accuracy: 0.7899 - val_loss: 1.1320 - val_accuracy: 0.5562\n",
            "Epoch 48/100\n",
            "30/30 [==============================] - 5s 161ms/step - loss: 0.5573 - accuracy: 0.7867 - val_loss: 0.8592 - val_accuracy: 0.6250\n",
            "Epoch 49/100\n",
            "30/30 [==============================] - 4s 146ms/step - loss: 0.5704 - accuracy: 0.7804 - val_loss: 0.7081 - val_accuracy: 0.6875\n",
            "Epoch 50/100\n",
            "30/30 [==============================] - 4s 138ms/step - loss: 0.5586 - accuracy: 0.7867 - val_loss: 0.9578 - val_accuracy: 0.6500\n",
            "Epoch 51/100\n",
            "30/30 [==============================] - 5s 152ms/step - loss: 0.5550 - accuracy: 0.7962 - val_loss: 1.5156 - val_accuracy: 0.5250\n",
            "Epoch 52/100\n",
            "30/30 [==============================] - 4s 143ms/step - loss: 0.5549 - accuracy: 0.7751 - val_loss: 1.6322 - val_accuracy: 0.4187\n",
            "Epoch 53/100\n",
            "30/30 [==============================] - 4s 138ms/step - loss: 0.5387 - accuracy: 0.7973 - val_loss: 1.4951 - val_accuracy: 0.5312\n",
            "Epoch 54/100\n",
            "30/30 [==============================] - 5s 153ms/step - loss: 0.5085 - accuracy: 0.8152 - val_loss: 0.7698 - val_accuracy: 0.6562\n",
            "Epoch 55/100\n",
            "30/30 [==============================] - 4s 149ms/step - loss: 0.5618 - accuracy: 0.7835 - val_loss: 1.0699 - val_accuracy: 0.5312\n",
            "Epoch 56/100\n",
            "30/30 [==============================] - 4s 137ms/step - loss: 0.5385 - accuracy: 0.7761 - val_loss: 1.8676 - val_accuracy: 0.4375\n",
            "Epoch 57/100\n",
            "30/30 [==============================] - 4s 143ms/step - loss: 0.5266 - accuracy: 0.7983 - val_loss: 2.6968 - val_accuracy: 0.3375\n",
            "Epoch 58/100\n",
            "30/30 [==============================] - 4s 142ms/step - loss: 0.5405 - accuracy: 0.7750 - val_loss: 0.8334 - val_accuracy: 0.6438\n",
            "Epoch 59/100\n",
            "30/30 [==============================] - 4s 137ms/step - loss: 0.5261 - accuracy: 0.7973 - val_loss: 0.7042 - val_accuracy: 0.6938\n",
            "Epoch 60/100\n",
            "30/30 [==============================] - 5s 168ms/step - loss: 0.5187 - accuracy: 0.7983 - val_loss: 2.4050 - val_accuracy: 0.3625\n",
            "Epoch 61/100\n",
            "30/30 [==============================] - 4s 137ms/step - loss: 0.4939 - accuracy: 0.8152 - val_loss: 0.6813 - val_accuracy: 0.7125\n",
            "Epoch 62/100\n",
            "30/30 [==============================] - 4s 133ms/step - loss: 0.5055 - accuracy: 0.8078 - val_loss: 1.0893 - val_accuracy: 0.7063\n",
            "Epoch 63/100\n",
            "30/30 [==============================] - 5s 170ms/step - loss: 0.5066 - accuracy: 0.7994 - val_loss: 1.3351 - val_accuracy: 0.5063\n",
            "Epoch 64/100\n",
            "30/30 [==============================] - 4s 137ms/step - loss: 0.5005 - accuracy: 0.8078 - val_loss: 0.8439 - val_accuracy: 0.7000\n",
            "Epoch 65/100\n",
            "30/30 [==============================] - 4s 141ms/step - loss: 0.4889 - accuracy: 0.8184 - val_loss: 2.2829 - val_accuracy: 0.3938\n",
            "Epoch 66/100\n",
            "30/30 [==============================] - 5s 172ms/step - loss: 0.4972 - accuracy: 0.8163 - val_loss: 0.9523 - val_accuracy: 0.6000\n",
            "Epoch 67/100\n",
            "30/30 [==============================] - 4s 136ms/step - loss: 0.5058 - accuracy: 0.7962 - val_loss: 1.8901 - val_accuracy: 0.5188\n",
            "Epoch 68/100\n",
            "30/30 [==============================] - 5s 158ms/step - loss: 0.5124 - accuracy: 0.7983 - val_loss: 0.7434 - val_accuracy: 0.7125\n",
            "Epoch 69/100\n",
            "30/30 [==============================] - 4s 133ms/step - loss: 0.5191 - accuracy: 0.8004 - val_loss: 2.3976 - val_accuracy: 0.4313\n",
            "Epoch 70/100\n",
            "30/30 [==============================] - 4s 135ms/step - loss: 0.5284 - accuracy: 0.8015 - val_loss: 1.3982 - val_accuracy: 0.4938\n",
            "Epoch 71/100\n",
            "30/30 [==============================] - 5s 170ms/step - loss: 0.4776 - accuracy: 0.8321 - val_loss: 0.7117 - val_accuracy: 0.7250\n",
            "Epoch 72/100\n",
            "30/30 [==============================] - 4s 133ms/step - loss: 0.4563 - accuracy: 0.8458 - val_loss: 1.3636 - val_accuracy: 0.5562\n",
            "Epoch 73/100\n",
            "30/30 [==============================] - 4s 134ms/step - loss: 0.4708 - accuracy: 0.8332 - val_loss: 1.6082 - val_accuracy: 0.5813\n",
            "Epoch 74/100\n",
            "30/30 [==============================] - 5s 162ms/step - loss: 0.4443 - accuracy: 0.8511 - val_loss: 1.5220 - val_accuracy: 0.6000\n",
            "Epoch 75/100\n",
            "30/30 [==============================] - 4s 132ms/step - loss: 0.4607 - accuracy: 0.8184 - val_loss: 2.0438 - val_accuracy: 0.5188\n",
            "Epoch 76/100\n",
            "30/30 [==============================] - 4s 132ms/step - loss: 0.4616 - accuracy: 0.8490 - val_loss: 1.1618 - val_accuracy: 0.6438\n",
            "Epoch 77/100\n",
            "30/30 [==============================] - 5s 163ms/step - loss: 0.4418 - accuracy: 0.8310 - val_loss: 1.4280 - val_accuracy: 0.5750\n",
            "Epoch 78/100\n",
            "30/30 [==============================] - 4s 137ms/step - loss: 0.4395 - accuracy: 0.8332 - val_loss: 0.7119 - val_accuracy: 0.6812\n",
            "Epoch 79/100\n",
            "30/30 [==============================] - 4s 138ms/step - loss: 0.4650 - accuracy: 0.8226 - val_loss: 2.5137 - val_accuracy: 0.4625\n",
            "Epoch 80/100\n",
            "30/30 [==============================] - 5s 163ms/step - loss: 0.4614 - accuracy: 0.8120 - val_loss: 1.8148 - val_accuracy: 0.6062\n",
            "Epoch 81/100\n",
            "30/30 [==============================] - 4s 138ms/step - loss: 0.4612 - accuracy: 0.8131 - val_loss: 1.0596 - val_accuracy: 0.6812\n",
            "Epoch 82/100\n",
            "30/30 [==============================] - 4s 143ms/step - loss: 0.4696 - accuracy: 0.8141 - val_loss: 3.3028 - val_accuracy: 0.3438\n",
            "Epoch 83/100\n",
            "30/30 [==============================] - 5s 151ms/step - loss: 0.4319 - accuracy: 0.8281 - val_loss: 1.5162 - val_accuracy: 0.5437\n",
            "Epoch 84/100\n",
            "30/30 [==============================] - 4s 132ms/step - loss: 0.4522 - accuracy: 0.8342 - val_loss: 2.2427 - val_accuracy: 0.4250\n",
            "Epoch 85/100\n",
            "30/30 [==============================] - 4s 146ms/step - loss: 0.4531 - accuracy: 0.8247 - val_loss: 1.4357 - val_accuracy: 0.4812\n",
            "Epoch 86/100\n",
            "30/30 [==============================] - 5s 153ms/step - loss: 0.4068 - accuracy: 0.8564 - val_loss: 0.7570 - val_accuracy: 0.6938\n",
            "Epoch 87/100\n",
            "30/30 [==============================] - 4s 132ms/step - loss: 0.4207 - accuracy: 0.8427 - val_loss: 4.2998 - val_accuracy: 0.3938\n",
            "Epoch 88/100\n",
            "30/30 [==============================] - 5s 153ms/step - loss: 0.4251 - accuracy: 0.8501 - val_loss: 1.0674 - val_accuracy: 0.6375\n",
            "Epoch 89/100\n",
            "30/30 [==============================] - 4s 140ms/step - loss: 0.4074 - accuracy: 0.8553 - val_loss: 0.8173 - val_accuracy: 0.6875\n",
            "Epoch 90/100\n",
            "30/30 [==============================] - 4s 135ms/step - loss: 0.4209 - accuracy: 0.8416 - val_loss: 1.2018 - val_accuracy: 0.6187\n",
            "Epoch 91/100\n",
            "30/30 [==============================] - 5s 180ms/step - loss: 0.4028 - accuracy: 0.8532 - val_loss: 0.9379 - val_accuracy: 0.6500\n",
            "Epoch 92/100\n",
            "30/30 [==============================] - 4s 131ms/step - loss: 0.3752 - accuracy: 0.8786 - val_loss: 0.8550 - val_accuracy: 0.7188\n",
            "Epoch 93/100\n",
            "30/30 [==============================] - 5s 164ms/step - loss: 0.3874 - accuracy: 0.8638 - val_loss: 1.0728 - val_accuracy: 0.6750\n",
            "Epoch 94/100\n",
            "30/30 [==============================] - 4s 138ms/step - loss: 0.3868 - accuracy: 0.8733 - val_loss: 0.8530 - val_accuracy: 0.6438\n",
            "Epoch 95/100\n",
            "30/30 [==============================] - 4s 133ms/step - loss: 0.3885 - accuracy: 0.8691 - val_loss: 0.9377 - val_accuracy: 0.6750\n",
            "Epoch 96/100\n",
            "30/30 [==============================] - 5s 165ms/step - loss: 0.3929 - accuracy: 0.8627 - val_loss: 1.2379 - val_accuracy: 0.6750\n",
            "Epoch 97/100\n",
            "30/30 [==============================] - 4s 136ms/step - loss: 0.3860 - accuracy: 0.8511 - val_loss: 2.7578 - val_accuracy: 0.5063\n",
            "Epoch 98/100\n",
            "30/30 [==============================] - 4s 133ms/step - loss: 0.3914 - accuracy: 0.8574 - val_loss: 0.6129 - val_accuracy: 0.7625\n",
            "Epoch 99/100\n",
            "30/30 [==============================] - 5s 155ms/step - loss: 0.3820 - accuracy: 0.8522 - val_loss: 3.0449 - val_accuracy: 0.5562\n",
            "Epoch 100/100\n",
            "30/30 [==============================] - 4s 132ms/step - loss: 0.4102 - accuracy: 0.8543 - val_loss: 0.6274 - val_accuracy: 0.7188\n"
          ]
        }
      ]
    },
    {
      "cell_type": "code",
      "source": [
        "import matplotlib.pyplot as plt\n",
        "\n",
        "# Plot the training accuracy\n",
        "plt.plot(history.history['accuracy'])\n",
        "# Plot the validation accuracy\n",
        "plt.plot(history.history['val_accuracy'])\n",
        "plt.title('Model accuracy')\n",
        "plt.ylabel('Accuracy')\n",
        "plt.xlabel('Epoch')\n",
        "plt.legend(['Train', 'Validation'], loc='upper left')\n",
        "plt.show()\n",
        "\n",
        "# Plot the training loss\n",
        "plt.plot(history.history['loss'])\n",
        "# Plot the validation loss\n",
        "plt.plot(history.history['val_loss'])\n",
        "plt.title('Model loss')\n",
        "plt.ylabel('Loss')\n",
        "plt.xlabel('Epoch')\n",
        "plt.legend(['Train', 'Validation'], loc='upper left')\n",
        "plt.show()"
      ],
      "metadata": {
        "colab": {
          "base_uri": "https://localhost:8080/",
          "height": 573
        },
        "outputId": "8c2cb076-35f8-4a2f-d60c-47d9ed68cf31",
        "id": "Z6PxG6gkceAB"
      },
      "execution_count": null,
      "outputs": [
        {
          "output_type": "display_data",
          "data": {
            "text/plain": [
              "<Figure size 432x288 with 1 Axes>"
            ],
            "image/png": "[encoded data removed]"
          },
          "metadata": {
            "needs_background": "light"
          }
        },
        {
          "output_type": "display_data",
          "data": {
            "text/plain": [
              "<Figure size 432x288 with 1 Axes>"
            ],
            "image/png": "[encoded data removed]"
          },
          "metadata": {
            "needs_background": "light"
          }
        }
      ]
    },
    {
      "cell_type": "code",
      "source": [
        "#Save the model\n",
        "model4.save('CNN_Nail_model4_ResNet.h5')\n"
      ],
      "metadata": {
        "id": "RPt9w3t2ceAB"
      },
      "execution_count": null,
      "outputs": []
    },
    {
      "cell_type": "code",
      "source": [
        "# Load the model\n",
        "loaded_model4 = tf.keras.models.load_model('/content/CNN_Nail_model4_ResNet.h5')\n"
      ],
      "metadata": {
        "id": "2FwnlRobceAB"
      },
      "execution_count": null,
      "outputs": []
    },
    {
      "cell_type": "code",
      "source": [
        "# Predict image\n",
        "from keras.preprocessing import image\n",
        "test_image = tf.keras.utils.load_img('/content/drive/MyDrive/Testing/abc.jpg', target_size = (64, 64))\n",
        "test_image = tf.keras.utils.img_to_array(test_image)\n",
        "test_image = np.expand_dims(test_image, axis = 0)\n",
        "result = loaded_model4.predict(test_image)\n",
        "\n",
        "# Get class labels from the generator\n",
        "class_labels = list(training_set.class_indices.keys())\n",
        "\n",
        "# Get the index of the class with the highest probability\n",
        "predicted_class_index = np.argmax(result[0])\n",
        "\n",
        "# Get the label of the predicted class\n",
        "predicted_class_label = class_labels[predicted_class_index]\n",
        "\n",
        "# Get the index of the class with the\n",
        "print(predicted_class_label)\n",
        "\n"
      ],
      "metadata": {
        "colab": {
          "base_uri": "https://localhost:8080/"
        },
        "outputId": "71bbcb1f-74fa-4693-f8eb-c9b8670f6ea7",
        "id": "Hv0v7aHiceAC"
      },
      "execution_count": null,
      "outputs": [
        {
          "output_type": "stream",
          "name": "stdout",
          "text": [
            "1/1 [==============================] - 0s 118ms/step\n",
            "yellow nail\n"
          ]
        }
      ]
    },
    {
      "cell_type": "markdown",
      "source": [
        "### API"
      ],
      "metadata": {
        "id": "Bk34ce4fqiVE"
      }
    },
    {
      "cell_type": "code",
      "source": [
        "from keras.preprocessing.image import ImageDataGenerator\n",
        "from keras.models import Sequential\n",
        "from keras.layers import Dense, Dropout, Activation, Flatten\n",
        "from keras.layers import Conv2D, MaxPooling2D\n",
        "import numpy as np\n",
        "import tensorflow as tf\n"
      ],
      "metadata": {
        "id": "tZ-QpAQtsAg2"
      },
      "execution_count": null,
      "outputs": []
    },
    {
      "cell_type": "code",
      "source": [
        "# Predict image\n",
        "from keras.preprocessing import image\n",
        "loaded_model = tf.keras.models.load_model('/content/CNN_Nail_model.h5')\n",
        "test_image = tf.keras.utils.load_img('/content/drive/MyDrive/Testing/y.jpg', target_size = (64, 64))\n",
        "test_image = tf.keras.utils.img_to_array(test_image)\n",
        "test_image = np.expand_dims(test_image, axis = 0)\n",
        "result = loaded_model.predict(test_image)\n",
        "print(result)\n",
        "# Get class labels from the generator\n",
        "class_labels = ['black nail', 'white spot', 'yellow nail']\n",
        "\n",
        "\n",
        "# Get the index of the class with the highest probability\n",
        "predicted_class_index = np.argmax(result[0])\n",
        "\n",
        "# Get the label of the predicted class\n",
        "predicted_class_label = class_labels[predicted_class_index]\n",
        "\n",
        "# Get the index of the class with the\n",
        "print(predicted_class_label)"
      ],
      "metadata": {
        "colab": {
          "base_uri": "https://localhost:8080/"
        },
        "id": "zwOaUChlrg5s",
        "outputId": "e4e460b7-c408-496c-d1b4-704f9bf8dacc"
      },
      "execution_count": null,
      "outputs": [
        {
          "output_type": "stream",
          "name": "stderr",
          "text": [
            "WARNING:tensorflow:No training configuration found in the save file, so the model was *not* compiled. Compile it manually.\n"
          ]
        },
        {
          "output_type": "stream",
          "name": "stdout",
          "text": [
            "1/1 [==============================] - 0s 59ms/step\n",
            "[[2.9118092e-16 1.0000000e+00 8.1108318e-23]]\n",
            "white spot\n"
          ]
        }
      ]
    },
    {
      "cell_type": "code",
      "source": [
        "!pip install -U flask-cors\n",
        "!pip install flask-ngrok"
      ],
      "metadata": {
        "id": "Zx78sbpau9kD",
        "colab": {
          "base_uri": "https://localhost:8080/"
        },
        "outputId": "9e4c02cc-b3e6-42ca-881b-b4e0dc68f185"
      },
      "execution_count": null,
      "outputs": [
        {
          "output_type": "stream",
          "name": "stdout",
          "text": [
            "Looking in indexes: https://pypi.org/simple, https://us-python.pkg.dev/colab-wheels/public/simple/\n",
            "Collecting flask-cors\n",
            "  Downloading Flask_Cors-3.0.10-py2.py3-none-any.whl (14 kB)\n",
            "Requirement already satisfied: Six in /usr/local/lib/python3.9/dist-packages (from flask-cors) (1.16.0)\n",
            "Requirement already satisfied: Flask>=0.9 in /usr/local/lib/python3.9/dist-packages (from flask-cors) (2.2.3)\n",
            "Requirement already satisfied: click>=8.0 in /usr/local/lib/python3.9/dist-packages (from Flask>=0.9->flask-cors) (8.1.3)\n",
            "Requirement already satisfied: Werkzeug>=2.2.2 in /usr/local/lib/python3.9/dist-packages (from Flask>=0.9->flask-cors) (2.2.3)\n",
            "Requirement already satisfied: itsdangerous>=2.0 in /usr/local/lib/python3.9/dist-packages (from Flask>=0.9->flask-cors) (2.1.2)\n",
            "Requirement already satisfied: Jinja2>=3.0 in /usr/local/lib/python3.9/dist-packages (from Flask>=0.9->flask-cors) (3.1.2)\n",
            "Requirement already satisfied: importlib-metadata>=3.6.0 in /usr/local/lib/python3.9/dist-packages (from Flask>=0.9->flask-cors) (6.1.0)\n",
            "Requirement already satisfied: zipp>=0.5 in /usr/local/lib/python3.9/dist-packages (from importlib-metadata>=3.6.0->Flask>=0.9->flask-cors) (3.15.0)\n",
            "Requirement already satisfied: MarkupSafe>=2.0 in /usr/local/lib/python3.9/dist-packages (from Jinja2>=3.0->Flask>=0.9->flask-cors) (2.1.2)\n",
            "Installing collected packages: flask-cors\n",
            "Successfully installed flask-cors-3.0.10\n",
            "Looking in indexes: https://pypi.org/simple, https://us-python.pkg.dev/colab-wheels/public/simple/\n",
            "Collecting flask-ngrok\n",
            "  Downloading flask_ngrok-0.0.25-py3-none-any.whl (3.1 kB)\n",
            "Requirement already satisfied: Flask>=0.8 in /usr/local/lib/python3.9/dist-packages (from flask-ngrok) (2.2.3)\n",
            "Requirement already satisfied: requests in /usr/local/lib/python3.9/dist-packages (from flask-ngrok) (2.27.1)\n",
            "Requirement already satisfied: importlib-metadata>=3.6.0 in /usr/local/lib/python3.9/dist-packages (from Flask>=0.8->flask-ngrok) (6.1.0)\n",
            "Requirement already satisfied: click>=8.0 in /usr/local/lib/python3.9/dist-packages (from Flask>=0.8->flask-ngrok) (8.1.3)\n",
            "Requirement already satisfied: itsdangerous>=2.0 in /usr/local/lib/python3.9/dist-packages (from Flask>=0.8->flask-ngrok) (2.1.2)\n",
            "Requirement already satisfied: Werkzeug>=2.2.2 in /usr/local/lib/python3.9/dist-packages (from Flask>=0.8->flask-ngrok) (2.2.3)\n",
            "Requirement already satisfied: Jinja2>=3.0 in /usr/local/lib/python3.9/dist-packages (from Flask>=0.8->flask-ngrok) (3.1.2)\n",
            "Requirement already satisfied: idna<4,>=2.5 in /usr/local/lib/python3.9/dist-packages (from requests->flask-ngrok) (3.4)\n",
            "Requirement already satisfied: urllib3<1.27,>=1.21.1 in /usr/local/lib/python3.9/dist-packages (from requests->flask-ngrok) (1.26.15)\n",
            "Requirement already satisfied: certifi>=2017.4.17 in /usr/local/lib/python3.9/dist-packages (from requests->flask-ngrok) (2022.12.7)\n",
            "Requirement already satisfied: charset-normalizer~=2.0.0 in /usr/local/lib/python3.9/dist-packages (from requests->flask-ngrok) (2.0.12)\n",
            "Requirement already satisfied: zipp>=0.5 in /usr/local/lib/python3.9/dist-packages (from importlib-metadata>=3.6.0->Flask>=0.8->flask-ngrok) (3.15.0)\n",
            "Requirement already satisfied: MarkupSafe>=2.0 in /usr/local/lib/python3.9/dist-packages (from Jinja2>=3.0->Flask>=0.8->flask-ngrok) (2.1.2)\n",
            "Installing collected packages: flask-ngrok\n",
            "Successfully installed flask-ngrok-0.0.25\n"
          ]
        }
      ]
    },
    {
      "cell_type": "code",
      "source": [
        "from flask import Flask,request, jsonify\n",
        "from flask_ngrok import run_with_ngrok\n",
        "# import pickle\n",
        "from flask_cors import CORS, cross_origin\n",
        "import cv2 as cv\n",
        "# Predict image\n",
        "from keras.preprocessing import image\n",
        "loaded_model = tf.keras.models.load_model('/content/CNN_Nail_model.h5')\n",
        "app = Flask(__name__)\n",
        "CORS(app)\n",
        "run_with_ngrok(app)\n",
        "\n",
        "\n",
        "@app.route('/')\n",
        "def index():\n",
        "    return jsonify({\"Hello\":\"Welcome\"})\n",
        "\n",
        "@app.route('/upload_image', methods=['POST'])\n",
        "def upload_image():\n",
        "    if 'image' in request.files:\n",
        "        image = request.files['image']\n",
        "        image.save(image.filename)\n",
        "        test_image = tf.keras.utils.load_img(image.filename, target_size = (64, 64))\n",
        "        test_image = tf.keras.utils.img_to_array(test_image)\n",
        "        test_image = np.expand_dims(test_image, axis = 0)\n",
        "        result = loaded_model.predict(test_image)\n",
        "        print(result)\n",
        "        # Get class labels from the generator\n",
        "        class_labels = ['black nail', 'white spot', 'yellow nail']\n",
        "\n",
        "\n",
        "        # Get the index of the class with the highest probability\n",
        "        predicted_class_index = np.argmax(result[0])\n",
        "\n",
        "        # Get the label of the predicted class\n",
        "        predicted_class_label = class_labels[predicted_class_index]\n",
        "\n",
        "        # Get the index of the class with the\n",
        "        print(predicted_class_label)\n",
        "        return jsonify(predicted_class_label)\n",
        "        # Do something with the image here, such as saving it to disk or processing it with a machine learning model\n",
        "    else:\n",
        "        return 'No image in request'\n",
        "\n",
        "app.run()\n"
      ],
      "metadata": {
        "id": "2CZddy5pqjuY",
        "colab": {
          "base_uri": "https://localhost:8080/"
        },
        "outputId": "6df17592-bc39-4794-db1a-db752801cb6e"
      },
      "execution_count": null,
      "outputs": [
        {
          "output_type": "stream",
          "name": "stderr",
          "text": [
            "WARNING:tensorflow:No training configuration found in the save file, so the model was *not* compiled. Compile it manually.\n"
          ]
        },
        {
          "output_type": "stream",
          "name": "stdout",
          "text": [
            " * Serving Flask app '__main__'\n",
            " * Debug mode: off\n"
          ]
        },
        {
          "output_type": "stream",
          "name": "stderr",
          "text": [
            "INFO:werkzeug:\u001b[31m\u001b[1mWARNING: This is a development server. Do not use it in a production deployment. Use a production WSGI server instead.\u001b[0m\n",
            " * Running on http://127.0.0.1:5000\n",
            "INFO:werkzeug:\u001b[33mPress CTRL+C to quit\u001b[0m\n"
          ]
        },
        {
          "output_type": "stream",
          "name": "stdout",
          "text": [
            " * Running on http://2ec7-34-28-203-186.ngrok.io\n",
            " * Traffic stats available on http://127.0.0.1:4040\n",
            "1/1 [==============================] - 0s 93ms/step\n"
          ]
        },
        {
          "output_type": "stream",
          "name": "stderr",
          "text": [
            "INFO:werkzeug:127.0.0.1 - - [27/Mar/2023 12:22:53] \"POST /upload_image HTTP/1.1\" 200 -\n"
          ]
        },
        {
          "output_type": "stream",
          "name": "stdout",
          "text": [
            "[[2.9118092e-16 1.0000000e+00 8.1108318e-23]]\n",
            "white spot\n"
          ]
        }
      ]
    }
  ]
}